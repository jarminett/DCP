{
  "nbformat": 4,
  "nbformat_minor": 0,
  "metadata": {
    "colab": {
      "name": "Tarea6-Luis Florian.ipynb",
      "provenance": [],
      "collapsed_sections": [],
      "toc_visible": true,
      "authorship_tag": "ABX9TyMXuqMfQ+zpjB1+imrBREx4",
      "include_colab_link": true
    },
    "kernelspec": {
      "name": "python3",
      "display_name": "Python 3"
    },
    "language_info": {
      "name": "python"
    }
  },
  "cells": [
    {
      "cell_type": "markdown",
      "metadata": {
        "id": "view-in-github",
        "colab_type": "text"
      },
      "source": [
        "<a href=\"https://colab.research.google.com/github/jarminett/DCP/blob/main/Tarea06/Tarea6_Luis_Florian.ipynb\" target=\"_parent\"><img src=\"https://colab.research.google.com/assets/colab-badge.svg\" alt=\"Open In Colab\"/></a>"
      ]
    },
    {
      "cell_type": "markdown",
      "metadata": {
        "id": "oRSY6GHyn7EM"
      },
      "source": [
        "## **UNIVERSIDAD GALILEO**\n",
        "### Mestría en Data Science\n",
        "#### Luis Florian, 0710072"
      ]
    },
    {
      "cell_type": "markdown",
      "metadata": {
        "id": "YI5VYXHmoWPu"
      },
      "source": [
        "### **Ejercicio 1**"
      ]
    },
    {
      "cell_type": "markdown",
      "metadata": {
        "id": "Bd4cjm4fojLs"
      },
      "source": [
        "#### **Diferencias entre np.array y np.matrix**\n",
        "np.array y np.matrix ambos son utilizados para crear matrices.\n",
        "\n",
        "**class numpy.matrix(data, dtype=None, copy=True)**\n",
        "\n",
        "**numpy.array(object, dtype=None, *, copy=True, order='K', subok=False, ndmin=0, like=None)**\n",
        "\n",
        "Los parámetros de cada uno varían, pero la idea general es la misma.  La principal diferencia es que matrix no es recomendado y en un futuro cercano desaparecerá.\n",
        "\n"
      ]
    },
    {
      "cell_type": "code",
      "metadata": {
        "id": "v0PFatyLr5Z5"
      },
      "source": [
        "import numpy as np"
      ],
      "execution_count": null,
      "outputs": []
    },
    {
      "cell_type": "code",
      "metadata": {
        "colab": {
          "base_uri": "https://localhost:8080/"
        },
        "id": "QQYCFuo-r7PU",
        "outputId": "e880823d-d7d5-47f2-8155-2142cb55b264"
      },
      "source": [
        "#Hay diferentes formas de crear matrices y eso puede variar entre array y matrx.\n",
        "a = np.matrix('1 2; 3 4')\n",
        "b = np.array('1 2; 3 4')\n",
        "print(\"Matrix con matrix:\",type(a))\n",
        "print(a,\"\\n\")\n",
        "print(\"Matrix con array:\",type(b))\n",
        "print(b,\"\\n\")\n"
      ],
      "execution_count": null,
      "outputs": [
        {
          "output_type": "stream",
          "text": [
            "Matrix con matrix: <class 'numpy.matrix'>\n",
            "[[1 2]\n",
            " [3 4]] \n",
            "\n",
            "Matrix con array: <class 'numpy.ndarray'>\n",
            "1 2; 3 4 \n",
            "\n"
          ],
          "name": "stdout"
        }
      ]
    },
    {
      "cell_type": "code",
      "metadata": {
        "colab": {
          "base_uri": "https://localhost:8080/"
        },
        "id": "7_pBzthRrMFr",
        "outputId": "1bf300ad-9754-4dfd-e4cf-930b835d2b41"
      },
      "source": [
        "a = np.matrix([[1, 2], [3, 4]])\n",
        "b = np.array([[1, 2], [3, 4]])\n",
        "print(\"Matrix con matrix:\",type(a))\n",
        "print(a,\"\\n\")\n",
        "print(\"Matrix con array:\",type(b))\n",
        "print(b,\"\\n\")"
      ],
      "execution_count": null,
      "outputs": [
        {
          "output_type": "stream",
          "text": [
            "Matrix con matrix: <class 'numpy.matrix'>\n",
            "[[1 2]\n",
            " [3 4]] \n",
            "\n",
            "Matrix con array: <class 'numpy.ndarray'>\n",
            "[[1 2]\n",
            " [3 4]] \n",
            "\n"
          ],
          "name": "stdout"
        }
      ]
    },
    {
      "cell_type": "code",
      "metadata": {
        "id": "kPS2QjahsJKF"
      },
      "source": [
        "### **Ejercicio 1**"
      ],
      "execution_count": null,
      "outputs": []
    },
    {
      "cell_type": "markdown",
      "metadata": {
        "id": "ORv7qfK4wSy3"
      },
      "source": [
        "### **Ejercicio 2**\n",
        "Implementar en una funcion neural_network(X) la red neuronal definida por la siguiente arquitectura:\n",
        "\n",
        "<img src=\"http://i.imgur.com/UNlffE1.png\">"
      ]
    },
    {
      "cell_type": "code",
      "metadata": {
        "id": "VoW4i9TRoPIf",
        "colab": {
          "base_uri": "https://localhost:8080/"
        },
        "outputId": "ebce63e7-c8ce-4a06-86ee-87f20f120375"
      },
      "source": [
        "def sigmoid(x): #convertir los valores de x al rango de 0 a 1    \n",
        "    return 1/(1+np.exp(-x))\n",
        "\n",
        "def relu(x):\n",
        "    y = np.array(x)\n",
        "    y[y<0] = 0    \n",
        "    return x\n",
        "\n",
        "def neural_network(X):\n",
        "  H1_W = np.array([[0.712,0.355,0.268],\n",
        "                 [0.112,0.855,0.468]])\n",
        "  \n",
        "  OL_W = np.array([0.116,0.329,0.708])\n",
        "\n",
        "  H1 = np.dot(X,H1_W)\n",
        "  H1 = sigmoid(H1)  # funcion de activacion: convertir a valores en el intervalo de 0 a 1\n",
        "  H1_Relu = relu(H1) \n",
        "  OL = np.dot(H1,OL_W)\n",
        "  OL_Relu = np.dot(H1_Relu,OL_W)\n",
        "  OL = sigmoid(OL)  # funcion de activacion: convertir a valores en el intervalo de 0 a 1\n",
        "  OL_Relu, relu(OL_Relu)\n",
        "  return OL, OL_Relu\n",
        "\n",
        "con_sigmoid, con_relu = neural_network([1,1])\n",
        "\n",
        "print(f\"Calculated (Con Sigmoid): {round(con_sigmoid,2)}\")\n",
        "print(f\"Calculated (Con Relu): {round(con_relu,2)}\")"
      ],
      "execution_count": 52,
      "outputs": [
        {
          "output_type": "stream",
          "text": [
            "Calculated (Con Sigmoid): 0.69\n",
            "Calculated (Con Relu): 0.81\n"
          ],
          "name": "stdout"
        }
      ]
    },
    {
      "cell_type": "code",
      "metadata": {
        "colab": {
          "base_uri": "https://localhost:8080/"
        },
        "id": "zlqEHQ8Q3zzv",
        "outputId": "ea370a3f-3234-49d9-d9eb-d5353ee8abc8"
      },
      "source": [
        "#Evalución\n",
        "X = np.array([\n",
        "    [0.1,2],\n",
        "    [0.3,0.45],\n",
        "    [5,9],\n",
        "    [12,6],\n",
        "    [7,5],\n",
        "    [0.3,0.8],\n",
        "    [12,5],\n",
        "    [100,200],\n",
        "    [7,8],\n",
        "    [300,1500]])\n",
        "\n",
        "con_sigmoid, con_relu = neural_network(X)\n",
        "\n",
        "print(f\"Calculated (Con Sigmoid)\\n: {con_sigmoid}\")\n",
        "print(f\"\\nCalculated (Con Relu)\\n: {con_relu}\")"
      ],
      "execution_count": 61,
      "outputs": [
        {
          "output_type": "stream",
          "text": [
            "Calculated (Con Sigmoid)\n",
            ": [0.70244573 0.66259284 0.75933678 0.75973948 0.75802295 0.6739704\n",
            " 0.75954693 0.76005845 0.75952743 0.76005845]\n",
            "\n",
            "Calculated (Con Relu)\n",
            ": [0.85897151 0.6748703  1.14904686 1.15125178 1.14187076 0.72619803\n",
            " 1.15019715 1.153      1.1500904  1.153     ]\n"
          ],
          "name": "stdout"
        }
      ]
    }
  ]
}