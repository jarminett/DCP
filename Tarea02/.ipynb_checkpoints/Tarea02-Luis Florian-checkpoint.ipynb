{
 "cells": [
  {
   "cell_type": "markdown",
   "metadata": {},
   "source": [
    "\n",
    "# Version Control (Git)\n",
    "\n",
    "\n",
    "En los últimos años de mi pregrado de Ingeniería en Sistemas utilicé git para los proyectos individuales y grupales. Desafortunadamente, el uso de esta herramienta se limitó a add, commit y push.  \n",
    "\n",
    "Después de tomar la lección Version Control (Git) del MIT, descubrí nuevas formas de utilizar y pensar con git. Así que en este ensaño pretendo resumir dicha lección con las partes que considero útiles desde mi punto de vista actual, como estudiante de Data Science.\n",
    "\n",
    "### ¿Qué podemos hacer con git?\n",
    "git es el sistema de control de versiones más utilizado en estos tiempos y resulta curioso como muchas personas como yo, lo utilizan únicamente para subir sus repositorios a github. Si algo sale mal, eliminamos el repositorio local e iniciamos una nueva copia con lo subido a github.\n",
    "\n",
    "Pero, git es mucho más que eso.  Es una gran herramienta para el trabajo individual y grupal, nos permite saber quién escribió cada cosa en nuestro proyecto, cuando y exactamente qué.  Además, nos permite por medio de snapshots, tener un historial de estados o versiones de nuestros cambios por cada commit, y tener acceso a dichos estados, crear diferentes lineas de versiones para trabajar el mismo proyecto en versiones paralelas.  Esto resulta sumamente útil cuando se están haciendo pruebas, las cuales no son necesarias en el resultado final.\n",
    "\n",
    "La lección menciona que el uso de git por CLI no es amigable, pero pienso lo contrario.  Es cuestión de dedicar tiempo para entender el funcionamiento principal y las opciones que ofrece para encontrarlo hermoso.\n",
    "\n",
    "### Terminología\n",
    "En git se le llama \"blob\" a los archivos, un directorio es llamado \"tree\" y por supuesto estos trees pueden contener blobs y más trees.  Un snapshot es el top-level tree, de esta forma contiene punteros a todos los blobs y trees presentes en el commit.  Un objeto es blob, un tree o un commit, y está direccionado por medio de un hash SHA-1."
   ]
  },
  {
   "cell_type": "markdown",
   "metadata": {},
   "source": [
    "### Ejemplo\n",
    "Para el ejemplo se utilizará un repositorio local llamado \"demo\"."
   ]
  },
  {
   "cell_type": "code",
   "execution_count": 32,
   "metadata": {},
   "outputs": [],
   "source": [
    "!mkdir demo\n"
   ]
  },
  {
   "cell_type": "code",
   "execution_count": 33,
   "metadata": {},
   "outputs": [
    {
     "name": "stdout",
     "output_type": "stream",
     "text": [
      "Initialized empty Git repository in /home/jarminet/Desktop/Maestria/Python/demo/.git/\r\n"
     ]
    }
   ],
   "source": [
    "!cd demo && git init"
   ]
  },
  {
   "cell_type": "markdown",
   "metadata": {},
   "source": [
    "Al inicializar el repositorio se crea una carpeta oculta llamada .git.  Esta carpeta contiene toda la información necesaria para el proyecto, branches, commits, dirección de repositorio remoto, etc. También contiene un registro que almacena el historial de commits que permite volver al historial."
   ]
  },
  {
   "cell_type": "code",
   "execution_count": 36,
   "metadata": {
    "scrolled": true
   },
   "outputs": [
    {
     "name": "stdout",
     "output_type": "stream",
     "text": [
      "branches  config  description  HEAD  hooks  info  objects  refs\r\n"
     ]
    }
   ],
   "source": [
    "!cd demo/.git && ls"
   ]
  },
  {
   "cell_type": "markdown",
   "metadata": {},
   "source": [
    "Dentro de la carpeta demo crearemos un archivo de prueba llamado \"text.txt\" con algún texto random.  Luego de esto, lo agregaremos al staging area (git add) y finalmente haremos nuestro primer commit."
   ]
  },
  {
   "cell_type": "code",
   "execution_count": 38,
   "metadata": {},
   "outputs": [],
   "source": [
    "!cd demo && echo \"texto de prueba\" >> text.txt"
   ]
  },
  {
   "cell_type": "code",
   "execution_count": 40,
   "metadata": {},
   "outputs": [
    {
     "name": "stdout",
     "output_type": "stream",
     "text": [
      "texto de prueba\r\n"
     ]
    }
   ],
   "source": [
    "!cd demo/ && cat text.txt"
   ]
  },
  {
   "cell_type": "code",
   "execution_count": 41,
   "metadata": {},
   "outputs": [],
   "source": [
    "!cd demo && git add text.txt"
   ]
  },
  {
   "cell_type": "code",
   "execution_count": 42,
   "metadata": {
    "scrolled": true
   },
   "outputs": [
    {
     "name": "stdout",
     "output_type": "stream",
     "text": [
      "[master (root-commit) 6a01ff9] primer commit\r\n",
      " 1 file changed, 1 insertion(+)\r\n",
      " create mode 100644 text.txt\r\n"
     ]
    }
   ],
   "source": [
    "!cd demo && git commit -m \"primer commit\""
   ]
  },
  {
   "cell_type": "markdown",
   "metadata": {},
   "source": [
    "Ok, ya tenemos un commit.  El cual podemos ver con \"git log\", agregaré algunos parametros para visualizar mejor el resultado, el cual muestra el commit realizado, la fecha, y el autor.  AWESOME!"
   ]
  },
  {
   "cell_type": "code",
   "execution_count": 47,
   "metadata": {
    "scrolled": true
   },
   "outputs": [
    {
     "name": "stdout",
     "output_type": "stream",
     "text": [
      "* \u001b[33mcommit 6a01ff96c4f8d763c01408b76e9dad41da75fbed\u001b[m\u001b[33m (\u001b[m\u001b[1;36mHEAD -> \u001b[m\u001b[1;32mmaster\u001b[m\u001b[33m)\u001b[m\r\n",
      "  Author: jarminett <luissflorian@gmail.com>\r\n",
      "  Date:   Wed Feb 10 12:12:31 2021 -0600\r\n",
      "  \r\n",
      "      primer commit\r\n"
     ]
    }
   ],
   "source": [
    "!cd demo && git log --all --graph --decorate"
   ]
  },
  {
   "cell_type": "markdown",
   "metadata": {},
   "source": [
    "Crearemos otra version archivo agregando una linea de texto, luego hacemos commit para tener las dos versiones y las visualizamos nuevamente con de git log."
   ]
  },
  {
   "cell_type": "code",
   "execution_count": 48,
   "metadata": {},
   "outputs": [
    {
     "name": "stdout",
     "output_type": "stream",
     "text": [
      "texto de prueba\r\n",
      "Otra linea\r\n"
     ]
    }
   ],
   "source": [
    "!cd demo && echo \"Otra linea\" >> text.txt && cat text.txt"
   ]
  },
  {
   "cell_type": "code",
   "execution_count": 53,
   "metadata": {},
   "outputs": [],
   "source": [
    "!cd demo/ && git add text.txt"
   ]
  },
  {
   "cell_type": "code",
   "execution_count": 54,
   "metadata": {},
   "outputs": [
    {
     "name": "stdout",
     "output_type": "stream",
     "text": [
      "[master 3a2bed8] segundo commit\r\n",
      " 1 file changed, 1 insertion(+)\r\n",
      "* \u001b[33mcommit 3a2bed8ec3dbd5152eecc55965b88d15ca4f2834\u001b[m\u001b[33m (\u001b[m\u001b[1;36mHEAD -> \u001b[m\u001b[1;32mmaster\u001b[m\u001b[33m)\u001b[m\r\n",
      "\u001b[31m|\u001b[m Author: jarminett <luissflorian@gmail.com>\r\n",
      "\u001b[31m|\u001b[m Date:   Wed Feb 10 12:27:27 2021 -0600\r\n",
      "\u001b[31m|\u001b[m \r\n",
      "\u001b[31m|\u001b[m     segundo commit\r\n",
      "\u001b[31m|\u001b[m \r\n",
      "* \u001b[33mcommit 6a01ff96c4f8d763c01408b76e9dad41da75fbed\u001b[m\r\n",
      "  Author: jarminett <luissflorian@gmail.com>\r\n",
      "  Date:   Wed Feb 10 12:12:31 2021 -0600\r\n",
      "  \r\n",
      "      primer commit\r\n"
     ]
    }
   ],
   "source": [
    "!cd demo/ && git commit -m \"segundo commit\" && git log --all --graph --decorate"
   ]
  },
  {
   "cell_type": "markdown",
   "metadata": {},
   "source": [
    "El log muestra dos commits esta vez, se muestran la palabras HEAD y master.  Master es el default branch y HEAD indica la versión en la que nos encontramos actualmente o la última.  ¿Cómo visualizamos los cambios realizados desde el último commit?  Esto lo podemos visualizar con git diff como se muestra a continuación."
   ]
  },
  {
   "cell_type": "code",
   "execution_count": 57,
   "metadata": {},
   "outputs": [
    {
     "name": "stdout",
     "output_type": "stream",
     "text": [
      "\u001b[1mdiff --git a/text.txt b/text.txt\u001b[m\r\n",
      "\u001b[1mindex 68dc9e6..c404a9f 100644\u001b[m\r\n",
      "\u001b[1m--- a/text.txt\u001b[m\r\n",
      "\u001b[1m+++ b/text.txt\u001b[m\r\n",
      "\u001b[36m@@ -1 +1,2 @@\u001b[m\r\n",
      " texto de prueba\u001b[m\r\n",
      "\u001b[32m+\u001b[m\u001b[32mOtra linea\u001b[m\r\n"
     ]
    }
   ],
   "source": [
    "!cd demo/ && git diff 6a01ff9"
   ]
  },
  {
   "cell_type": "markdown",
   "metadata": {},
   "source": [
    "El output anterior muestra en verde la linea que se agregó desde el último commit."
   ]
  },
  {
   "cell_type": "markdown",
   "metadata": {},
   "source": [
    "Ya sabemos como visualizar y hacer diferentes commits.  Es tiempo de experimentar la manera de moverse entre diferentes versiones.  Esto lo hacemos con \"git checkout\"."
   ]
  },
  {
   "cell_type": "code",
   "execution_count": 58,
   "metadata": {},
   "outputs": [
    {
     "name": "stdout",
     "output_type": "stream",
     "text": [
      "texto de prueba\r\n",
      "Otra linea\r\n"
     ]
    }
   ],
   "source": [
    "!cd demo/ && cat text.txt"
   ]
  },
  {
   "cell_type": "code",
   "execution_count": 65,
   "metadata": {
    "scrolled": true
   },
   "outputs": [
    {
     "name": "stdout",
     "output_type": "stream",
     "text": [
      "* \u001b[33m3a2bed8\u001b[m\u001b[33m (\u001b[m\u001b[1;36mHEAD\u001b[m\u001b[33m, \u001b[m\u001b[1;32mmaster\u001b[m\u001b[33m)\u001b[m segundo commit\r\n",
      "* \u001b[33m6a01ff9\u001b[m primer commit\r\n"
     ]
    }
   ],
   "source": [
    "!cd demo/ && git log --all --graph --decorate --oneline"
   ]
  },
  {
   "cell_type": "markdown",
   "metadata": {},
   "source": [
    "Se observa que nos encontramos en el segundo commit, el cual tiene como hash \"6a01ff9\".  La idea es cambiarnos a la version anterior del documento, el cual tenía una sola línea de texto (texto de prueba)."
   ]
  },
  {
   "cell_type": "code",
   "execution_count": 68,
   "metadata": {},
   "outputs": [
    {
     "name": "stdout",
     "output_type": "stream",
     "text": [
      "Previous HEAD position was 3a2bed8 segundo commit\r\n",
      "HEAD is now at 6a01ff9 primer commit\r\n",
      "* \u001b[33m3a2bed8\u001b[m\u001b[33m (\u001b[m\u001b[1;32mmaster\u001b[m\u001b[33m)\u001b[m segundo commit\r\n",
      "* \u001b[33m6a01ff9\u001b[m\u001b[33m (\u001b[m\u001b[1;36mHEAD\u001b[m\u001b[33m)\u001b[m primer commit\r\n"
     ]
    }
   ],
   "source": [
    "!cd demo/ && git checkout 6a01ff9 && git log --all --graph --decorate --oneline "
   ]
  },
  {
   "cell_type": "code",
   "execution_count": 69,
   "metadata": {},
   "outputs": [
    {
     "name": "stdout",
     "output_type": "stream",
     "text": [
      "texto de prueba\r\n"
     ]
    }
   ],
   "source": [
    "!cd demo/ && cat text.txt"
   ]
  },
  {
   "cell_type": "markdown",
   "metadata": {},
   "source": [
    "Se observa que ahora HEAD está en el primer commit y que el archivo está en su versión incial."
   ]
  },
  {
   "cell_type": "markdown",
   "metadata": {},
   "source": [
    " ¿Qué pasa con el working tree si agregamos otra modificación?"
   ]
  },
  {
   "cell_type": "code",
   "execution_count": 71,
   "metadata": {},
   "outputs": [
    {
     "name": "stdout",
     "output_type": "stream",
     "text": [
      "texto de prueba\r\n",
      "tercera linea\r\n"
     ]
    }
   ],
   "source": [
    "!cd demo/ && echo \"tercera linea\" >> text.txt && cat text.txt"
   ]
  },
  {
   "cell_type": "code",
   "execution_count": 72,
   "metadata": {
    "scrolled": true
   },
   "outputs": [
    {
     "name": "stdout",
     "output_type": "stream",
     "text": [
      "\u001b[31mHEAD detached at \u001b[m6a01ff9\r\n",
      "Changes not staged for commit:\r\n",
      "  (use \"git add <file>...\" to update what will be committed)\r\n",
      "  (use \"git checkout -- <file>...\" to discard changes in working directory)\r\n",
      "\r\n",
      "\t\u001b[31mmodified:   text.txt\u001b[m\r\n",
      "\r\n",
      "no changes added to commit (use \"git add\" and/or \"git commit -a\")\r\n"
     ]
    }
   ],
   "source": [
    "!cd demo/ && git status"
   ]
  },
  {
   "cell_type": "markdown",
   "metadata": {},
   "source": [
    "Se reporta una modificación en el archivo pero se indica que no se ha agregado al staging area y que no hay commits. ¿Qué pasa si hacemos commit?"
   ]
  },
  {
   "cell_type": "code",
   "execution_count": 73,
   "metadata": {
    "scrolled": true
   },
   "outputs": [
    {
     "name": "stdout",
     "output_type": "stream",
     "text": [
      "[detached HEAD f9d7934] Tercer commit\r\n",
      " 1 file changed, 1 insertion(+)\r\n",
      "* \u001b[33mcommit f9d7934d8463f2a19cc5c92248bdb41faf30fcc3\u001b[m\u001b[33m (\u001b[m\u001b[1;36mHEAD\u001b[m\u001b[33m)\u001b[m\r\n",
      "\u001b[31m|\u001b[m Author: jarminett <luissflorian@gmail.com>\r\n",
      "\u001b[31m|\u001b[m Date:   Wed Feb 10 13:01:12 2021 -0600\r\n",
      "\u001b[31m|\u001b[m \r\n",
      "\u001b[31m|\u001b[m     Tercer commit\r\n",
      "\u001b[31m|\u001b[m   \r\n",
      "\u001b[31m|\u001b[m * \u001b[33mcommit 3a2bed8ec3dbd5152eecc55965b88d15ca4f2834\u001b[m\u001b[33m (\u001b[m\u001b[1;32mmaster\u001b[m\u001b[33m)\u001b[m\r\n",
      "\u001b[31m|\u001b[m\u001b[31m/\u001b[m  Author: jarminett <luissflorian@gmail.com>\r\n",
      "\u001b[31m|\u001b[m   Date:   Wed Feb 10 12:27:27 2021 -0600\r\n",
      "\u001b[31m|\u001b[m   \r\n",
      "\u001b[31m|\u001b[m       segundo commit\r\n",
      "\u001b[31m|\u001b[m \r\n",
      "* \u001b[33mcommit 6a01ff96c4f8d763c01408b76e9dad41da75fbed\u001b[m\r\n",
      "  Author: jarminett <luissflorian@gmail.com>\r\n",
      "  Date:   Wed Feb 10 12:12:31 2021 -0600\r\n",
      "  \r\n",
      "      primer commit\r\n"
     ]
    }
   ],
   "source": [
    "!cd demo/ && git add text.txt && git commit -m \"Tercer commit\" && git log --all --graph --decorate"
   ]
  },
  {
   "cell_type": "markdown",
   "metadata": {},
   "source": [
    "Justo lo que esperabamos, se agrega un nuevo commit a nuestro working tree, y por ser el último se muestra en HEAD."
   ]
  },
  {
   "cell_type": "markdown",
   "metadata": {},
   "source": [
    "Al inicio mencioné la opción que nos brinda git para crear lineas paralelas de desarrollo, mencionando el ejemplo de realización de pruebas o fix bugs.  La forma de realizar esto es por medio de branches, nuestro brach de default es llamado master, pero podemos agregar más según nuestra conveniencia.  \n",
    "\n",
    "Para entender el funcionamiento de los branches, debemos recordar que git no almacena copias de las diferentes versiones de los archvios, en lugar de esto almacena series de snapshots.  Cuando hacemos commit, git almacena un objeto commit que contiene un puntero al snapshot del contenido que cambiamos.  Este objeto también contiene el nombre del autor, email, date, etc.  Entonces, un branch no es más que un puntero movible a los diferentes commits, que nos permite crear líneas paralelas de desarrollo de nuestro proyecto.  Cuando entendí esto, me recordó a Steins;Gate y Back to the future, con la diferencia que con git si podemos hacer un merge entre las líneas de desarrollo."
   ]
  },
  {
   "cell_type": "code",
   "execution_count": 74,
   "metadata": {},
   "outputs": [
    {
     "name": "stdout",
     "output_type": "stream",
     "text": [
      "* \u001b[32m(HEAD detached from 6a01ff9)\u001b[m\r\n",
      "  master\u001b[m\r\n"
     ]
    }
   ],
   "source": [
    "!cd demo/ && git branch"
   ]
  },
  {
   "cell_type": "markdown",
   "metadata": {},
   "source": [
    "git branch me muestra el listado de branches actuales.  En nuestro caso únicamente tenemos el default.  Para agregar un nuevo branch basta con escribir el nombre deseado."
   ]
  },
  {
   "cell_type": "code",
   "execution_count": 75,
   "metadata": {},
   "outputs": [
    {
     "name": "stdout",
     "output_type": "stream",
     "text": [
      "* \u001b[32m(HEAD detached from 6a01ff9)\u001b[m\r\n",
      "  galileo\u001b[m\r\n",
      "  master\u001b[m\r\n"
     ]
    }
   ],
   "source": [
    "!cd demo/ && git branch galileo && git branch"
   ]
  },
  {
   "cell_type": "code",
   "execution_count": 76,
   "metadata": {},
   "outputs": [
    {
     "name": "stdout",
     "output_type": "stream",
     "text": [
      "* \u001b[33mcommit f9d7934d8463f2a19cc5c92248bdb41faf30fcc3\u001b[m\u001b[33m (\u001b[m\u001b[1;36mHEAD\u001b[m\u001b[33m, \u001b[m\u001b[1;32mgalileo\u001b[m\u001b[33m)\u001b[m\r\n",
      "\u001b[31m|\u001b[m Author: jarminett <luissflorian@gmail.com>\r\n",
      "\u001b[31m|\u001b[m Date:   Wed Feb 10 13:01:12 2021 -0600\r\n",
      "\u001b[31m|\u001b[m \r\n",
      "\u001b[31m|\u001b[m     Tercer commit\r\n",
      "\u001b[31m|\u001b[m   \r\n",
      "\u001b[31m|\u001b[m * \u001b[33mcommit 3a2bed8ec3dbd5152eecc55965b88d15ca4f2834\u001b[m\u001b[33m (\u001b[m\u001b[1;32mmaster\u001b[m\u001b[33m)\u001b[m\r\n",
      "\u001b[31m|\u001b[m\u001b[31m/\u001b[m  Author: jarminett <luissflorian@gmail.com>\r\n",
      "\u001b[31m|\u001b[m   Date:   Wed Feb 10 12:27:27 2021 -0600\r\n",
      "\u001b[31m|\u001b[m   \r\n",
      "\u001b[31m|\u001b[m       segundo commit\r\n",
      "\u001b[31m|\u001b[m \r\n",
      "* \u001b[33mcommit 6a01ff96c4f8d763c01408b76e9dad41da75fbed\u001b[m\r\n",
      "  Author: jarminett <luissflorian@gmail.com>\r\n",
      "  Date:   Wed Feb 10 12:12:31 2021 -0600\r\n",
      "  \r\n",
      "      primer commit\r\n"
     ]
    }
   ],
   "source": [
    "!cd demo/ && git log --all --graph --decorate"
   ]
  },
  {
   "cell_type": "markdown",
   "metadata": {},
   "source": [
    "Como anteriormente ya nos habíamos movido a otro commit con git checkout, el branch master quedó en una versión atrás.  Entonces, la idea es tener varias lineas paralelas de desarrollo al mismo tiempo.  Puedo agregar más branches si necesito."
   ]
  },
  {
   "cell_type": "markdown",
   "metadata": {},
   "source": [
    "## Conclusiones\n",
    "git es sin duda una herramienta del día a día para un desarrollador.  Nos permite perfectamente trabajar en colaboración o individualmente al brindarnos la posibilidad de tener varias líneas paralelas de desarrollo, regresar a escenarios o versiones anteriores de nuestro código, ver quién modificó cada cosa y en qué momento.  Todo esto, sin guardar copias entereas de cada versión, únicamente por medio de snapshots guardando punteros del de diferentes estados y cambios realizados."
   ]
  },
  {
   "cell_type": "markdown",
   "metadata": {},
   "source": [
    "## <div align=\"right\">Luis Florian</div><div align=\"right\">UNIVERSIDAD GALILEO</div><div align=\"right\">Maestría en Ciencia de Datos</div>\n"
   ]
  }
 ],
 "metadata": {
  "kernelspec": {
   "display_name": "Python 3",
   "language": "python",
   "name": "python3"
  },
  "language_info": {
   "codemirror_mode": {
    "name": "ipython",
    "version": 3
   },
   "file_extension": ".py",
   "mimetype": "text/x-python",
   "name": "python",
   "nbconvert_exporter": "python",
   "pygments_lexer": "ipython3",
   "version": "3.6.9"
  }
 },
 "nbformat": 4,
 "nbformat_minor": 4
}
