{
 "cells": [
  {
   "cell_type": "markdown",
   "id": "horizontal-governor",
   "metadata": {},
   "source": [
    "# Funciones\n",
    "Una función es una porción de código identificado dentro del programa por medio de un nombre, puede recibir argumentos, aunque no es oblicatorio hacerlo.  La idea es que cuando se utilice la función, ésta ejecute el código que tiene dentro, realizando una tarea que frecuentemente resulta repetitiva dentro de nuestro programa.  Al final de la ejecución del código, la función puedo devolver un valor o también no hacerlo.  Dependerá del objetivo y la idea principal de la función.\n",
    "\n",
    "Python nos brinda funciones pre-definidas, que pueden ser utilizadas sin necesidad de importar ningún módulo o librería.  Además de esto, también podemos escribir nuestras propias funciones."
   ]
  },
  {
   "cell_type": "markdown",
   "id": "strange-return",
   "metadata": {},
   "source": [
    "## Definición de una función en Python\n",
    "\n",
    "Para definir una función en Python utilizamos la palabra reservada *def*.  \n",
    "\n",
    "Cuando definimos una función podemos ejecutarla por medio del nombre y argumentos solicitados, de lo contrario la función no será ejecutada.\n",
    "\n",
    "La sintaxis para una definición de función en Python es:"
   ]
  },
  {
   "cell_type": "raw",
   "id": "about-terrorist",
   "metadata": {},
   "source": [
    "def <nombre>(argumentos):\n",
    "    '''Descripción de la función'''\n",
    "    Sentencias tareas a realizar\n",
    "    return <valor>"
   ]
  },
  {
   "cell_type": "markdown",
   "id": "spanish-meaning",
   "metadata": {},
   "source": [
    "## Parámetros\n",
    "\n",
    "Los parámetros son los valores que recibe una función cuando es llamada.  Estos parámetros se utilizarán en las sentencias de la función para ejecutar acciones.  Los parámetros se separan por comas y una función puede también no esperar ningún parámetro.\n",
    "\n",
    "Un parámetro es un valor que la función espera recibir cuando sea llamada (invocada), a fin de ejecutar acciones en base al mismo. Una función puede esperar uno o más parámetros (que irán separados por una coma) o ninguno.\n",
    "\n"
   ]
  },
  {
   "cell_type": "code",
   "execution_count": 6,
   "id": "adjusted-conference",
   "metadata": {},
   "outputs": [],
   "source": [
    "def ejemplo(nombre):\n",
    "    print(f'Mi nomnbre es {nombre}')"
   ]
  },
  {
   "cell_type": "code",
   "execution_count": 7,
   "id": "confidential-injury",
   "metadata": {},
   "outputs": [
    {
     "name": "stdout",
     "output_type": "stream",
     "text": [
      "Mi nomnbre es Luis Florian\n"
     ]
    }
   ],
   "source": [
    "ejemplo(\"Luis Florian\")"
   ]
  },
  {
   "cell_type": "markdown",
   "id": "incredible-dragon",
   "metadata": {},
   "source": [
    "## <div align=\"right\">Luis Florian</div><div align=\"right\">UNIVERSIDAD GALILEO</div><div align=\"right\">Maestría en Ciencia de Datos</div>\n"
   ]
  }
 ],
 "metadata": {
  "kernelspec": {
   "display_name": "Python 3",
   "language": "python",
   "name": "python3"
  },
  "language_info": {
   "codemirror_mode": {
    "name": "ipython",
    "version": 3
   },
   "file_extension": ".py",
   "mimetype": "text/x-python",
   "name": "python",
   "nbconvert_exporter": "python",
   "pygments_lexer": "ipython3",
   "version": "3.6.9"
  }
 },
 "nbformat": 4,
 "nbformat_minor": 5
}
