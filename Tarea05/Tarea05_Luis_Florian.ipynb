{
  "nbformat": 4,
  "nbformat_minor": 0,
  "metadata": {
    "colab": {
      "name": "Tarea05-Luis Florian.ipynb",
      "provenance": [],
      "collapsed_sections": [],
      "toc_visible": true,
      "authorship_tag": "ABX9TyPLLKXE2w734RFc8hIfCQK8",
      "include_colab_link": true
    },
    "kernelspec": {
      "name": "python3",
      "display_name": "Python 3"
    }
  },
  "cells": [
    {
      "cell_type": "markdown",
      "metadata": {
        "id": "view-in-github",
        "colab_type": "text"
      },
      "source": [
        "<a href=\"https://colab.research.google.com/github/jarminett/DCP/blob/main/Tarea05/Tarea05_Luis_Florian.ipynb\" target=\"_parent\"><img src=\"https://colab.research.google.com/assets/colab-badge.svg\" alt=\"Open In Colab\"/></a>"
      ]
    },
    {
      "cell_type": "markdown",
      "metadata": {
        "id": "dj_U7nGznffD"
      },
      "source": [
        "## **UNIVERSIDAD GALILEO**\n",
        "### Mestría en Data Science\n",
        "#### Luis Florian, 0710072\n"
      ]
    },
    {
      "cell_type": "code",
      "metadata": {
        "id": "b98s8iBGn8mP"
      },
      "source": [
        "import numpy as np"
      ],
      "execution_count": 18,
      "outputs": []
    },
    {
      "cell_type": "markdown",
      "metadata": {
        "id": "FyrTcQdhailb"
      },
      "source": [
        "### **Ejercicio 1 :**\n",
        "Usando unicamente NumPy crea un vector de este tipo con el nombre xs\n",
        "\n",
        "[0. , 0.1 , 0.2 , 0.3 , 0.4 , 0.5 , 0.51, 0.52, 0.53, 0.54, 0.55, 0.56, 0.57, 0.58, 0.59, 0.6 , 0.7 , 0.8 , 0.9 , 1. ]\n"
      ]
    },
    {
      "cell_type": "code",
      "metadata": {
        "colab": {
          "base_uri": "https://localhost:8080/"
        },
        "id": "3XleTmWCSLd_",
        "outputId": "be661951-a39e-4f5e-bfc5-ea4d9c371c5d"
      },
      "source": [
        "a = np.linspace(0,0.5,num=6)\n",
        "b = np.linspace(0.51, 0.59,num=9)\n",
        "c = np.linspace(0.6,1,num=5)\n",
        "xs = np.hstack((a,b,c))\n",
        "xs"
      ],
      "execution_count": 19,
      "outputs": [
        {
          "output_type": "execute_result",
          "data": {
            "text/plain": [
              "array([0.  , 0.1 , 0.2 , 0.3 , 0.4 , 0.5 , 0.51, 0.52, 0.53, 0.54, 0.55,\n",
              "       0.56, 0.57, 0.58, 0.59, 0.6 , 0.7 , 0.8 , 0.9 , 1.  ])"
            ]
          },
          "metadata": {
            "tags": []
          },
          "execution_count": 19
        }
      ]
    },
    {
      "cell_type": "markdown",
      "metadata": {
        "id": "-ZzFLm09cvZQ"
      },
      "source": [
        "### **Ejercicio 2:**\n",
        "En este ejercicio debemos remplazar el calculo de ys para hacerlo de manera \"vectorizada\" y eliminar el ciclo for. "
      ]
    },
    {
      "cell_type": "code",
      "metadata": {
        "colab": {
          "base_uri": "https://localhost:8080/"
        },
        "id": "0BvOwZV4c_4e",
        "outputId": "1a8719fb-2450-4b3b-81ce-3bcad8a45f2d"
      },
      "source": [
        "sample_points = 10000\n",
        "inicio_intervalo = 0\n",
        "ruido = 0.5*np.random.randn(sample_points) #el ruido comunmente se debe a aleatoriedad o captura no exacta de info.\n",
        "x = np.linspace(inicio_intervalo,5*np.pi,sample_points) \n",
        "y = np.sin(x) + ruido\n",
        "\n",
        "#ys es \"y suavizado\", inicialmente es una copia de y\n",
        "ys =  y.copy()\n",
        "\n",
        "ys2 = np.cumsum(ys,dtype=float)\n",
        "ys2[3:] = ys2[3:] - ys2[:-3]\n",
        "#First 3 elements sum is on position 2 of cumsum.\n",
        "ys2 = ys2[2:]/3\n",
        "\n",
        "print(ys2)\n",
        "\n"
      ],
      "execution_count": 20,
      "outputs": [
        {
          "output_type": "stream",
          "text": [
            "[-0.33260221 -0.58651256  0.11313536 ... -0.00553228 -0.08171864\n",
            "  0.08375313]\n"
          ],
          "name": "stdout"
        }
      ]
    },
    {
      "cell_type": "markdown",
      "metadata": {
        "id": "TumdVL7wFJR5"
      },
      "source": [
        "### **Ejercicio 3:**\n",
        "Para calcular la información de una distribución de probabilidad necesitamos calcular el producto entre la información de cada posible x y su probabilidad , cada uno de estos elementos nos indica cuanta incerteza aporta cada x a la entropía de la distribución. Crea una función que calcule esto, debe recibir un vector representando a la dist. de probabilidad y devoler otro vector con el termino de entropía para cada x. Por ejemplo:\n",
        "\n",
        "calcular_entropia([0.25,0.75])\n",
        "\n",
        "Debe resultar en :\n",
        "\n",
        "[0.5 , 0.31127812]"
      ]
    },
    {
      "cell_type": "code",
      "metadata": {
        "colab": {
          "base_uri": "https://localhost:8080/"
        },
        "id": "xHwzaST5GknE",
        "outputId": "d888d515-4526-435c-fe36-a6ca61421391"
      },
      "source": [
        "def calcular_entropia(px):\n",
        "  return np.log2(px)*px*-1\n",
        "\n",
        "print(calcular_entropia([0.25,0.75]))"
      ],
      "execution_count": 21,
      "outputs": [
        {
          "output_type": "stream",
          "text": [
            "[0.5        0.31127812]\n"
          ],
          "name": "stdout"
        }
      ]
    },
    {
      "cell_type": "markdown",
      "metadata": {
        "id": "_46QPdp0Pu7-"
      },
      "source": [
        "### **Ejercicio 4:**\n",
        "Cree una función para calcular este modelo sobre valores de de gasto de nuevos clientes , y luego cree una función ganancia_neta(x,g,c) donde:\n",
        "\n",
        "    x = vector conteniendo los valores de gasto del primer mes para nuevos clientes.\n",
        "    g = función que estima la ganancia en función de x\n",
        "    c = función que estima el costo en función de x\n"
      ]
    },
    {
      "cell_type": "code",
      "metadata": {
        "colab": {
          "base_uri": "https://localhost:8080/"
        },
        "id": "B28pgO0VP4xC",
        "outputId": "f62094ee-9cbd-4473-c0f9-5a59492807ca"
      },
      "source": [
        "def g(x):\n",
        "  ''' Devuelve las ganancias '''    \n",
        "  ganancia = (np.power(x,3) + 2.0*(np.power(x,2.0))+np.exp(0.0001*x) - np.sqrt(2.0*x))/50\n",
        "  return ganancia \n",
        "\n",
        "def c(x):\n",
        "  ''' Devuelve los costos '''\n",
        "  costo = (np.power(x,2) + x + np.log(0.0001*x) - np.sqrt(0.54*x))/100\n",
        "  return costo\n",
        "\n",
        "def ganancia_neta(x,g,c):\n",
        "  ''' Devuelve ganancia neta '''\n",
        "  return g(x) - c(x)\n",
        "\n",
        "x = np.array([100,50,25,100]) \n",
        "\n",
        "print(\"Ganancia Neta = \",ganancia_neta(x,g,c))\n"
      ],
      "execution_count": 22,
      "outputs": [
        {
          "output_type": "stream",
          "text": [
            "Ganancia Neta =  [20298.85689469  2574.42504495   330.9752857  20298.85689469]\n"
          ],
          "name": "stdout"
        }
      ]
    },
    {
      "cell_type": "markdown",
      "metadata": {
        "id": "4xAO75SYVWHi"
      },
      "source": [
        "### **Ejercicio 5:**\n",
        "Aritmética Acumulativa\\\n",
        "Podemos usar la funcion np.cumsum para esto, en este ejercicio necesitamos determinar el \"lifetime value\" de cierto usuario en su 6to mes:"
      ]
    },
    {
      "cell_type": "code",
      "metadata": {
        "colab": {
          "base_uri": "https://localhost:8080/"
        },
        "id": "vVJXQKKPViGz",
        "outputId": "6535ae99-9bdd-482e-c7d7-8c9554609541"
      },
      "source": [
        "def lifetime_value(ganancias_mensuales):\n",
        "    return np.cumsum(ganancias_mensuales)\n",
        "\n",
        "# Prueba:\n",
        "ganancias_usuario = np.array([25,150,125,75,100,45,22,30])\n",
        "lifetime_value_usuario = lifetime_value(ganancias_usuario)\n",
        "\n",
        "print(\"Lifetime value:\",lifetime_value_usuario)\n",
        "\n",
        "print(\"El valor del usuario a su sexto mes es :\",lifetime_value_usuario[5])"
      ],
      "execution_count": 23,
      "outputs": [
        {
          "output_type": "stream",
          "text": [
            "Lifetime value: [ 25 175 300 375 475 520 542 572]\n",
            "El valor del usuario a su sexto mes es : 520\n"
          ],
          "name": "stdout"
        }
      ]
    },
    {
      "cell_type": "markdown",
      "metadata": {
        "id": "KHYGEcVVbNI9"
      },
      "source": [
        "### **Ejercicio 6:**\n",
        "Usando argmax crear una función mode(x) para calcular la moda de un vector x , esta función debe devolver una tupla de 2 elementos de la forma: (valor,conteo)"
      ]
    },
    {
      "cell_type": "code",
      "metadata": {
        "colab": {
          "base_uri": "https://localhost:8080/"
        },
        "id": "HrRvYYOdWh4L",
        "outputId": "cbaf62db-fe0f-49be-9696-9a7c34ce27a7"
      },
      "source": [
        "from collections import Counter\n",
        "\n",
        "def mode(x):\n",
        "  count = Counter(x)\n",
        "  k = np.array(list(count.keys()))\n",
        "  v = np.array(list(count.values()))\n",
        "  mayor = np.argmax(v)\n",
        "  tupla = (k[mayor], v[mayor])\n",
        "  return tupla\n",
        "  \n",
        "x = [1,3,8,10,10,10,10,10,55,2,1,3,4,3]\n",
        "\n",
        "mode(x)"
      ],
      "execution_count": 24,
      "outputs": [
        {
          "output_type": "execute_result",
          "data": {
            "text/plain": [
              "(10, 5)"
            ]
          },
          "metadata": {
            "tags": []
          },
          "execution_count": 24
        }
      ]
    },
    {
      "cell_type": "markdown",
      "metadata": {
        "id": "CPFUvnSkbrtx"
      },
      "source": [
        "### **Ejercicio 7:**\n",
        "Crear una función para calcular la entropía  de una distribución de probabilidad representada como un vector.\n",
        "$$S = -\\sum_i^nP(x_{i})log_{2}P(x_{i})$$"
      ]
    },
    {
      "cell_type": "code",
      "metadata": {
        "colab": {
          "base_uri": "https://localhost:8080/"
        },
        "id": "nTIl8KFhb1JG",
        "outputId": "0c26a69e-f241-4cb1-967d-2c258f63f422"
      },
      "source": [
        "def entropia(px):\n",
        "  return np.sum(np.log2(px)*px)*-1\n",
        "\n",
        "print(\"Entropia = \",entropia([0.25,0.75]))\n"
      ],
      "execution_count": 25,
      "outputs": [
        {
          "output_type": "stream",
          "text": [
            "Entropia =  0.8112781244591328\n"
          ],
          "name": "stdout"
        }
      ]
    },
    {
      "cell_type": "markdown",
      "metadata": {
        "id": "4-H5lOeUppne"
      },
      "source": [
        "### **Ejercicio 8:**\n",
        "<img src=\"https://image.slidesharecdn.com/publishintroductiontodeeplearninginpythonandmatlab1-160502102437/95/introduction-to-deep-learning-in-python-and-matlab-54-638.jpg?cb=1462185644\">"
      ]
    },
    {
      "cell_type": "code",
      "metadata": {
        "colab": {
          "base_uri": "https://localhost:8080/"
        },
        "id": "2CeHcaVyrujN",
        "outputId": "64ed1ace-989a-4890-aa8b-c0fa6c00b787"
      },
      "source": [
        "def cross_entropy(Y,Y_hat):\n",
        "  return np.nansum(np.log(Y_hat)*Y)*-1    \n",
        "\n",
        "y  = np.array([1.0,0,0])\n",
        "y_hat = np.array([0.7,0.2,1]) # <- resultado de algun modelo predictivo\n",
        "\n",
        "cross_entropy(y,y_hat)"
      ],
      "execution_count": 26,
      "outputs": [
        {
          "output_type": "execute_result",
          "data": {
            "text/plain": [
              "0.35667494393873245"
            ]
          },
          "metadata": {
            "tags": []
          },
          "execution_count": 26
        }
      ]
    },
    {
      "cell_type": "markdown",
      "metadata": {
        "id": "GXWaj2kXbCjz"
      },
      "source": [
        "### **Ejercicio 9 :**\n",
        "Crear una función que reciba como parámetro un vector x y calcule su magnitud o norma(euclidiana o L2), luego usarla para evaluar 2 vectores \n",
        "que representan los errores generados por 2 modelos de machine learning y concluir cual de los 2 modelos es mejor."
      ]
    },
    {
      "cell_type": "code",
      "metadata": {
        "colab": {
          "base_uri": "https://localhost:8080/"
        },
        "id": "WZKa4Iv-WsC3",
        "outputId": "6bf9941e-7010-4158-cae3-f06b8200353f"
      },
      "source": [
        "def magnitud(x):    \n",
        "    return np.sqrt(np.sum(np.power(x,2))) # raiz cuadrada\n",
        "\n",
        "errores_modelo1 = np.array([1,2,1,2]) #\n",
        "errores_modelo2 = np.array([0,1,1,2]) #\n",
        "\n",
        "print(\"Magnitud Errores Modelo1 = \" + str(magnitud(errores_modelo1)))\n",
        "print(\"Magnitud Errores Modelo2 = \" + str(magnitud(errores_modelo2)))\n",
        "\n",
        "# elegir el mejor modelo con una condicional(if)\n",
        "if magnitud(errores_modelo1) > magnitud(errores_modelo2):\n",
        "  print(\"El modelo 2 es el mejor\")\n",
        "elif magnitud(errores_modelo1) < magnitud(errores_modelo2):\n",
        "  print(\"El modelo 1 es el mejor\")\n",
        "else:\n",
        "  print(\"Ambos modelos son equivalentes\")"
      ],
      "execution_count": 27,
      "outputs": [
        {
          "output_type": "stream",
          "text": [
            "Magnitud Errores Modelo1 = 3.1622776601683795\n",
            "Magnitud Errores Modelo2 = 2.449489742783178\n",
            "El modelo 2 es el mejor\n"
          ],
          "name": "stdout"
        }
      ]
    },
    {
      "cell_type": "markdown",
      "metadata": {
        "id": "etC-ms6GwVdj"
      },
      "source": [
        "### **Ejercicio 10 :**\n",
        "Usando la función del ejercicio anterior, crea otra función normalizar(x) que reciba de parámetro un vector x aplique normalización sobre este, el resultado debe ser un nuevo vector del tamaño de x cuya magnitud es igual a 1.0"
      ]
    },
    {
      "cell_type": "code",
      "metadata": {
        "colab": {
          "base_uri": "https://localhost:8080/"
        },
        "id": "oY6VvHYsWYTI",
        "outputId": "55be194b-3bd6-4e29-a861-d8bf1ee4f7ac"
      },
      "source": [
        "def normalizar(x):\n",
        "  return x/magnitud(x)    \n",
        "    \n",
        "print(magnitud(normalizar(errores_modelo1)))\n",
        "print(normalizar(errores_modelo2))"
      ],
      "execution_count": 28,
      "outputs": [
        {
          "output_type": "stream",
          "text": [
            "1.0\n",
            "[0.         0.40824829 0.40824829 0.81649658]\n"
          ],
          "name": "stdout"
        }
      ]
    },
    {
      "cell_type": "markdown",
      "metadata": {
        "id": "mF-cYUmBxMvl"
      },
      "source": [
        "### **Ejercicio 11:**\n",
        "\n",
        "INPUT LAYER: un vector X de tamaño = 2 que representa los datos de entrada\n",
        "HIDDEN_LAYER :capa oculta con 2 neuronas definidas por los vectores:\n",
        "- HL1 = [0.25,0.37]\n",
        "- HL2 = [-8,14]\n",
        "- OUTPUT_LAYER = capa de salida definida por el vector [4,9]\n"
      ]
    },
    {
      "cell_type": "code",
      "metadata": {
        "colab": {
          "base_uri": "https://localhost:8080/"
        },
        "id": "ripk-EYQ6Zm7",
        "outputId": "9f7e41c0-45cf-4eb8-bb65-00c9f83a357d"
      },
      "source": [
        "def neural_network(x):\n",
        "  HL1 = np.array([0.25,0.37])\n",
        "  HL2 = np.array([-8,14])\n",
        "  OUTPUT_LAYER = np.array([4,9])\n",
        "  HL1_R = np.dot(x,HL1)\n",
        "  HL2_R = np.dot(x,HL2)\n",
        "  if HL1_R > HL2_R:\n",
        "    print(\"\\nHL1 tiene un patrón de mayor medida en X=\",x)\n",
        "  elif HL2_R > HL1_R:\n",
        "    print(\"\\nHL2 tiene un patrón de mayor medida en X=\",x)\n",
        "  else:\n",
        "    print(\"\\nHL2 y HL1 tiene el mismo patrón de medida en X=\",x)\n",
        "\n",
        "  HL_R = np.array([HL1_R,HL2_R])\n",
        "  O = np.dot(OUTPUT_LAYER,HL_R)\n",
        "  return O\n",
        "\n",
        "X1 = np.array([0.50,0.72])\n",
        "X2 = np.array([-4,7])\n",
        "X3 = np.zeros_like(X2)\n",
        "X4 = np.ones_like(X1)\n",
        "X5 = np.random.randn(X1.shape[0])\n",
        "\n",
        "print(\"Output de la Red Neural=\",neural_network(X1))\n",
        "print(\"Output de la Red Neural=\",neural_network(X2))\n",
        "print(\"Output de la Red Neural=\",neural_network(X3))\n",
        "print(\"Output de la Red Neural=\",neural_network(X4))\n",
        "print(\"Output de la Red Neural=\",neural_network(X5))"
      ],
      "execution_count": 29,
      "outputs": [
        {
          "output_type": "stream",
          "text": [
            "\n",
            "HL2 tiene un patrón de mayor medida en X= [0.5  0.72]\n",
            "Output de la Red Neural= 56.2856\n",
            "\n",
            "HL2 tiene un patrón de mayor medida en X= [-4  7]\n",
            "Output de la Red Neural= 1176.36\n",
            "\n",
            "HL2 y HL1 tiene el mismo patrón de medida en X= [0 0]\n",
            "Output de la Red Neural= 0.0\n",
            "\n",
            "HL2 tiene un patrón de mayor medida en X= [1. 1.]\n",
            "Output de la Red Neural= 56.48\n",
            "\n",
            "HL2 tiene un patrón de mayor medida en X= [0.36325159 0.51234393]\n",
            "Output de la Red Neural= 39.52274146156489\n"
          ],
          "name": "stdout"
        }
      ]
    },
    {
      "cell_type": "markdown",
      "metadata": {
        "id": "FHaqJmcmEiYi"
      },
      "source": [
        "### **Ejercicio 12:**\n",
        "En este ejercicio usamos correlación cruzada para calcular las medias moviles promediando 3 puntos"
      ]
    },
    {
      "cell_type": "code",
      "metadata": {
        "colab": {
          "base_uri": "https://localhost:8080/"
        },
        "id": "KzP-BLkjEuBw",
        "outputId": "51f38c1b-0a70-442b-b8ed-30dd56d36458"
      },
      "source": [
        "ruido = 0.1*np.random.randn(15) #el ruido comunmente se debe a aleatoriedad o captura no exacta de info.\n",
        "x = np.linspace(0,2*np.pi,15) \n",
        "y = np.sin(x) + ruido\n",
        "\n",
        "filtro = np.array([1/3,1/3,1/3]) #para lograr las medias moviles a traves de correlacion cruzada\n",
        "\n",
        "## tu codigo aqui (~ 3 linea de codigo)\n",
        "mm = y.copy()\n",
        "print(\"\\n\",mm)\n",
        "for i in range(0,len(mm)-2):\n",
        "  mm[i+1] = np.dot(mm[i:i+3],filtro)\n",
        "\n",
        "print(\"\\n\",mm)\n",
        "\n",
        "\n"
      ],
      "execution_count": 30,
      "outputs": [
        {
          "output_type": "stream",
          "text": [
            "\n",
            " [-0.0872461   0.35601799  0.75325561  0.94300556  1.08049042  0.8514913\n",
            "  0.39283904 -0.02210995 -0.56463775 -0.89930659 -1.03801163 -0.77196646\n",
            " -0.82519808 -0.39052671 -0.13272442]\n",
            "\n",
            " [-0.0872461   0.34067583  0.678979    0.90082499  0.9442689   0.72953308\n",
            "  0.36675406 -0.07333121 -0.51242518 -0.81658113 -0.87551974 -0.8242281\n",
            " -0.6799843  -0.40107848 -0.13272442]\n"
          ],
          "name": "stdout"
        }
      ]
    },
    {
      "cell_type": "markdown",
      "metadata": {
        "id": "-tcX8JmfY0Sp"
      },
      "source": [
        "### **Ejercicio 13:**\n",
        "Dado el vector x, usar operadores lógicos sobre vectores y acceso a elementos usando vectores booleanos , escribir un programa que calcule eun nuevo vector z conteniendo el valor absoluto de el vector x."
      ]
    },
    {
      "cell_type": "code",
      "metadata": {
        "colab": {
          "base_uri": "https://localhost:8080/"
        },
        "id": "sPYfHJO7Y7Dn",
        "outputId": "fcf37d04-95dc-4ea4-fbfa-cfe52a024a3e"
      },
      "source": [
        "x = np.linspace(-2,2,9)\n",
        "print(\"Original x = \",x)\n",
        "x[x<0] = x[x<0]*-1\n",
        "print(\"Abs x = \",x)"
      ],
      "execution_count": 36,
      "outputs": [
        {
          "output_type": "stream",
          "text": [
            "Original x =  [-2.  -1.5 -1.  -0.5  0.   0.5  1.   1.5  2. ]\n",
            "Abs x =  [2.  1.5 1.  0.5 0.  0.5 1.  1.5 2. ]\n"
          ],
          "name": "stdout"
        }
      ]
    },
    {
      "cell_type": "markdown",
      "metadata": {
        "id": "kFO4QNmchWIa"
      },
      "source": [
        "### **Ejercicio 14:**\n",
        "Implementar la función:\n",
        "$$h(x) = \\begin{cases}0 & x< 0\\\\1 & 0<=x <=1\\\\0 & x> 1\\end{cases}$$"
      ]
    },
    {
      "cell_type": "code",
      "metadata": {
        "colab": {
          "base_uri": "https://localhost:8080/"
        },
        "id": "U3jBDttOhcrH",
        "outputId": "f0ff6d0b-fa71-4826-b7f1-532dba2a7619"
      },
      "source": [
        "def h(x):\n",
        "  uno = np.logical_and(x>=0,x<=1)\n",
        "  x[uno] = 1\n",
        "  x[x<0] = 0\n",
        "  x[x>1] = 0   \n",
        "  return x\n",
        "\n",
        "x = np.array([0.1,-2,0.5,5,0.9,-0.7,-10])\n",
        "print(h(x))"
      ],
      "execution_count": 39,
      "outputs": [
        {
          "output_type": "stream",
          "text": [
            "[1. 0. 1. 0. 1. 0. 0.]\n"
          ],
          "name": "stdout"
        }
      ]
    },
    {
      "cell_type": "markdown",
      "metadata": {
        "id": "xG3Gv3SWiWL9"
      },
      "source": [
        "### **Ejercicio 15:**\n",
        "Usando select implementar una función k(x) con la siguiente definición:\n",
        "$$k(x) = \\begin{cases}-x & x< 0\\\\x^{3}  &0<=x<1\\\\x^{2}  &1<=x<2\\\\4  &otherwise\\end{cases}$$"
      ]
    },
    {
      "cell_type": "code",
      "metadata": {
        "colab": {
          "base_uri": "https://localhost:8080/"
        },
        "id": "oOu9XDCGiae8",
        "outputId": "0429114a-3a69-4f50-e131-bac076ec6e88"
      },
      "source": [
        "def k(x): \n",
        "  x3 = np.logical_and(x>=0,x<1)\n",
        "  x2 = np.logical_and(x>=1,x<2)\n",
        "  condiciones = [x<0, x3, x2]\n",
        "  resultados = [x*-1, x**3, x**2]\n",
        "  y = np.select(condiciones,resultados,4)\n",
        "  return y\n",
        "\n",
        "x = np.array([-1,-5,0.5,1,2,1.5,2.9,7])\n",
        "print(\"   x = \",x)\n",
        "print(\"k(x) = \", k(x))"
      ],
      "execution_count": 59,
      "outputs": [
        {
          "output_type": "stream",
          "text": [
            "   x =  [-1.  -5.   0.5  1.   2.   1.5  2.9  7. ]\n",
            "k(x) =  [1.    5.    0.125 1.    4.    2.25  4.    4.   ]\n"
          ],
          "name": "stdout"
        }
      ]
    },
    {
      "cell_type": "markdown",
      "metadata": {
        "id": "1HDxUuPOm1Oz"
      },
      "source": [
        "### **Ejercicio 16:**\n",
        "Investigar piecewise y:\n",
        "*  Usarlo para implementar la función anterior de manera eficiente\n",
        "*  Usar piscewise para implementar la función:\n",
        "\n",
        "$$m(x) = \\begin{cases}e^{2x} & x< 0\\\\1  &0<=x<1\\\\e^{1-x}  &x>=1\\\\\\end{cases}$$"
      ]
    },
    {
      "cell_type": "code",
      "metadata": {
        "colab": {
          "base_uri": "https://localhost:8080/"
        },
        "id": "yVmN_44Dm6pL",
        "outputId": "378511a3-8602-400b-da0f-052d59df5eeb"
      },
      "source": [
        "def m(x):\n",
        "  uno = np.logical_and(x>=0,x<1)\n",
        "  condiciones = [x<0, uno, x>=1]\n",
        "  resultados = [lambda x: np.e**(2*x), 1, lambda x:np.e**(1-x)]\n",
        "  return np.piecewise(x,condiciones,resultados)\n",
        "\n",
        "x = np.array([-1,-5,0.5,1,2,1.5,2.9,7])\n",
        "print(\"   x = \",x)\n",
        "print(\"m(x) = \", m(x))"
      ],
      "execution_count": 73,
      "outputs": [
        {
          "output_type": "stream",
          "text": [
            "   x =  [-1.  -5.   0.5  1.   2.   1.5  2.9  7. ]\n",
            "m(x) =  [1.35335283e-01 4.53999298e-05 1.00000000e+00 1.00000000e+00\n",
            " 3.67879441e-01 6.06530660e-01 1.49568619e-01 2.47875218e-03]\n"
          ],
          "name": "stdout"
        }
      ]
    }
  ]
}