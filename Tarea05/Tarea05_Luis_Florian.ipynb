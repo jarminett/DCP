{
  "nbformat": 4,
  "nbformat_minor": 0,
  "metadata": {
    "colab": {
      "name": "Tarea05-Luis Florian.ipynb",
      "provenance": [],
      "collapsed_sections": [],
      "toc_visible": true,
      "authorship_tag": "ABX9TyMHJ5qZwLSmRWXKO+yLZ0ge",
      "include_colab_link": true
    },
    "kernelspec": {
      "name": "python3",
      "display_name": "Python 3"
    }
  },
  "cells": [
    {
      "cell_type": "markdown",
      "metadata": {
        "id": "view-in-github",
        "colab_type": "text"
      },
      "source": [
        "<a href=\"https://colab.research.google.com/github/jarminett/DCP/blob/main/Tarea05/Tarea05_Luis_Florian.ipynb\" target=\"_parent\"><img src=\"https://colab.research.google.com/assets/colab-badge.svg\" alt=\"Open In Colab\"/></a>"
      ]
    },
    {
      "cell_type": "markdown",
      "metadata": {
        "id": "dj_U7nGznffD"
      },
      "source": [
        "## **UNIVERSIDAD GALILEO**\n",
        "### Mestría en Data Science\n",
        "#### Luis Florian, 0710072\n"
      ]
    },
    {
      "cell_type": "code",
      "metadata": {
        "id": "b98s8iBGn8mP"
      },
      "source": [
        "import numpy as np"
      ],
      "execution_count": 1,
      "outputs": []
    },
    {
      "cell_type": "markdown",
      "metadata": {
        "id": "FyrTcQdhailb"
      },
      "source": [
        "### **Ejercicio 1 :**\n",
        "Usando unicamente NumPy crea un vector de este tipo con el nombre xs\n",
        "\n",
        "[0. , 0.1 , 0.2 , 0.3 , 0.4 , 0.5 , 0.51, 0.52, 0.53, 0.54, 0.55, 0.56, 0.57, 0.58, 0.59, 0.6 , 0.7 , 0.8 , 0.9 , 1. ]\n"
      ]
    },
    {
      "cell_type": "code",
      "metadata": {
        "colab": {
          "base_uri": "https://localhost:8080/"
        },
        "id": "3XleTmWCSLd_",
        "outputId": "c0a85080-d5e9-4ba9-825a-fc318256e01c"
      },
      "source": [
        "a = np.linspace(0,0.5,num=6)\n",
        "b = np.linspace(0.51, 0.59,num=9)\n",
        "c = np.linspace(0.6,1,num=5)\n",
        "xs = np.hstack((a,b,c))\n",
        "xs"
      ],
      "execution_count": 62,
      "outputs": [
        {
          "output_type": "execute_result",
          "data": {
            "text/plain": [
              "array([0.  , 0.1 , 0.2 , 0.3 , 0.4 , 0.5 , 0.51, 0.52, 0.53, 0.54, 0.55,\n",
              "       0.56, 0.57, 0.58, 0.59, 0.6 , 0.7 , 0.8 , 0.9 , 1.  ])"
            ]
          },
          "metadata": {
            "tags": []
          },
          "execution_count": 62
        }
      ]
    },
    {
      "cell_type": "markdown",
      "metadata": {
        "id": "-ZzFLm09cvZQ"
      },
      "source": [
        "### **Ejercicio 2:**\n",
        "En este ejercicio debemos remplazar el calculo de ys para hacerlo de manera \"vectorizada\" y eliminar el ciclo for. "
      ]
    },
    {
      "cell_type": "code",
      "metadata": {
        "colab": {
          "base_uri": "https://localhost:8080/"
        },
        "id": "0BvOwZV4c_4e",
        "outputId": "0d0aaa4d-f264-4062-fbb0-c592373fb488"
      },
      "source": [
        "sample_points = 10000\n",
        "inicio_intervalo = 0\n",
        "ruido = 0.5*np.random.randn(sample_points) #el ruido comunmente se debe a aleatoriedad o captura no exacta de info.\n",
        "x = np.linspace(inicio_intervalo,5*np.pi,sample_points) \n",
        "y = np.sin(x) + ruido\n",
        "\n",
        "#ys es \"y suavizado\", inicialmente es una copia de y\n",
        "ys =  y.copy()\n",
        "\n",
        "ys2 = np.cumsum(ys,dtype=float)\n",
        "ys2[3:] = ys2[3:] - ys2[:-3]\n",
        "#First 3 elements sum is on position 2 of cumsum.\n",
        "ys2 = ys2[2:]/3\n",
        "\n",
        "print(ys2)\n",
        "\n"
      ],
      "execution_count": 183,
      "outputs": [
        {
          "output_type": "stream",
          "text": [
            "[-0.38661144 -0.08126826 -0.23927859 ... -0.29660599 -0.490031\n",
            " -0.02593238]\n"
          ],
          "name": "stdout"
        }
      ]
    },
    {
      "cell_type": "markdown",
      "metadata": {
        "id": "TumdVL7wFJR5"
      },
      "source": [
        "### **Ejercicio 3:**"
      ]
    },
    {
      "cell_type": "markdown",
      "metadata": {
        "id": "GXWaj2kXbCjz"
      },
      "source": [
        "### **Ejercicio x :**\n",
        "Crear una función que reciba como parámetro un vector x y calcule su magnitud o norma(euclidiana o L2), luego usarla para evaluar 2 vectores \n",
        "que representan los errores generados por 2 modelos de machine learning y concluir cual de los 2 modelos es mejor."
      ]
    },
    {
      "cell_type": "code",
      "metadata": {
        "colab": {
          "base_uri": "https://localhost:8080/"
        },
        "id": "WZKa4Iv-WsC3",
        "outputId": "c49ab20c-8cc9-4c79-a3b7-a69b6f491625"
      },
      "source": [
        "def magnitud(x):    \n",
        "    return np.sqrt(np.sum(np.power(x,2))) # raiz cuadrada\n",
        "\n",
        "errores_modelo1 = np.array([1,2,1,2]) #\n",
        "errores_modelo2 = np.array([0,1,1,2]) #\n",
        "\n",
        "print(\"Magnitud Errores Modelo1 = \" + str(magnitud(errores_modelo1)))\n",
        "print(\"Magnitud Errores Modelo2 = \" + str(magnitud(errores_modelo2)))\n",
        "\n",
        "# elegir el mejor modelo con una condicional(if)\n",
        "if magnitud(errores_modelo1) > magnitud(errores_modelo2):\n",
        "  print(\"El modelo 2 es el mejor\")\n",
        "elif magnitud(errores_modelo1) < magnitud(errores_modelo2):\n",
        "  print(\"El modelo 1 es el mejor\")\n",
        "else:\n",
        "  print(\"Ambos modelos son equivalentes\")"
      ],
      "execution_count": 69,
      "outputs": [
        {
          "output_type": "stream",
          "text": [
            "Magnitud Errores Modelo1 = 3.1622776601683795\n",
            "Magnitud Errores Modelo2 = 2.449489742783178\n",
            "El modelo 2 es el mejor\n"
          ],
          "name": "stdout"
        }
      ]
    },
    {
      "cell_type": "markdown",
      "metadata": {
        "id": "KHYGEcVVbNI9"
      },
      "source": [
        "# New Section"
      ]
    }
  ]
}