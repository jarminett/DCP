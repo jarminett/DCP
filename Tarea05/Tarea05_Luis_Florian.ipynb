{
  "nbformat": 4,
  "nbformat_minor": 0,
  "metadata": {
    "colab": {
      "name": "Tarea05-Luis Florian.ipynb",
      "provenance": [],
      "collapsed_sections": [],
      "toc_visible": true,
      "authorship_tag": "ABX9TyMgemisfTgnA4bn/G8lB4TK",
      "include_colab_link": true
    },
    "kernelspec": {
      "name": "python3",
      "display_name": "Python 3"
    }
  },
  "cells": [
    {
      "cell_type": "markdown",
      "metadata": {
        "id": "view-in-github",
        "colab_type": "text"
      },
      "source": [
        "<a href=\"https://colab.research.google.com/github/jarminett/DCP/blob/main/Tarea05/Tarea05_Luis_Florian.ipynb\" target=\"_parent\"><img src=\"https://colab.research.google.com/assets/colab-badge.svg\" alt=\"Open In Colab\"/></a>"
      ]
    },
    {
      "cell_type": "markdown",
      "metadata": {
        "id": "dj_U7nGznffD"
      },
      "source": [
        "## **UNIVERSIDAD GALILEO**\n",
        "### Mestría en Data Science\n",
        "#### Luis Florian, 0710072\n"
      ]
    },
    {
      "cell_type": "code",
      "metadata": {
        "id": "b98s8iBGn8mP"
      },
      "source": [
        "import numpy as np"
      ],
      "execution_count": 1,
      "outputs": []
    },
    {
      "cell_type": "markdown",
      "metadata": {
        "id": "FyrTcQdhailb"
      },
      "source": [
        "### **Ejercicio 1 :**\n",
        "Usando unicamente NumPy crea un vector de este tipo con el nombre xs\n",
        "\n",
        "[0. , 0.1 , 0.2 , 0.3 , 0.4 , 0.5 , 0.51, 0.52, 0.53, 0.54, 0.55, 0.56, 0.57, 0.58, 0.59, 0.6 , 0.7 , 0.8 , 0.9 , 1. ]\n"
      ]
    },
    {
      "cell_type": "code",
      "metadata": {
        "colab": {
          "base_uri": "https://localhost:8080/"
        },
        "id": "3XleTmWCSLd_",
        "outputId": "c0a85080-d5e9-4ba9-825a-fc318256e01c"
      },
      "source": [
        "a = np.linspace(0,0.5,num=6)\n",
        "b = np.linspace(0.51, 0.59,num=9)\n",
        "c = np.linspace(0.6,1,num=5)\n",
        "xs = np.hstack((a,b,c))\n",
        "xs"
      ],
      "execution_count": 62,
      "outputs": [
        {
          "output_type": "execute_result",
          "data": {
            "text/plain": [
              "array([0.  , 0.1 , 0.2 , 0.3 , 0.4 , 0.5 , 0.51, 0.52, 0.53, 0.54, 0.55,\n",
              "       0.56, 0.57, 0.58, 0.59, 0.6 , 0.7 , 0.8 , 0.9 , 1.  ])"
            ]
          },
          "metadata": {
            "tags": []
          },
          "execution_count": 62
        }
      ]
    },
    {
      "cell_type": "markdown",
      "metadata": {
        "id": "-ZzFLm09cvZQ"
      },
      "source": [
        "### **Ejercicio 2:**\n",
        "En este ejercicio debemos remplazar el calculo de ys para hacerlo de manera \"vectorizada\" y eliminar el ciclo for. "
      ]
    },
    {
      "cell_type": "code",
      "metadata": {
        "colab": {
          "base_uri": "https://localhost:8080/"
        },
        "id": "0BvOwZV4c_4e",
        "outputId": "0d0aaa4d-f264-4062-fbb0-c592373fb488"
      },
      "source": [
        "sample_points = 10000\n",
        "inicio_intervalo = 0\n",
        "ruido = 0.5*np.random.randn(sample_points) #el ruido comunmente se debe a aleatoriedad o captura no exacta de info.\n",
        "x = np.linspace(inicio_intervalo,5*np.pi,sample_points) \n",
        "y = np.sin(x) + ruido\n",
        "\n",
        "#ys es \"y suavizado\", inicialmente es una copia de y\n",
        "ys =  y.copy()\n",
        "\n",
        "ys2 = np.cumsum(ys,dtype=float)\n",
        "ys2[3:] = ys2[3:] - ys2[:-3]\n",
        "#First 3 elements sum is on position 2 of cumsum.\n",
        "ys2 = ys2[2:]/3\n",
        "\n",
        "print(ys2)\n",
        "\n"
      ],
      "execution_count": 183,
      "outputs": [
        {
          "output_type": "stream",
          "text": [
            "[-0.38661144 -0.08126826 -0.23927859 ... -0.29660599 -0.490031\n",
            " -0.02593238]\n"
          ],
          "name": "stdout"
        }
      ]
    },
    {
      "cell_type": "markdown",
      "metadata": {
        "id": "TumdVL7wFJR5"
      },
      "source": [
        "### **Ejercicio 3:**\n",
        "Para calcular la información de una distribución de probabilidad necesitamos calcular el producto entre la información de cada posible x y su probabilidad , cada uno de estos elementos nos indica cuanta incerteza aporta cada x a la entropía de la distribución. Crea una función que calcule esto, debe recibir un vector representando a la dist. de probabilidad y devoler otro vector con el termino de entropía para cada x. Por ejemplo:\n",
        "\n",
        "calcular_entropia([0.25,0.75])\n",
        "\n",
        "Debe resultar en :\n",
        "\n",
        "[0.5 , 0.31127812]"
      ]
    },
    {
      "cell_type": "code",
      "metadata": {
        "colab": {
          "base_uri": "https://localhost:8080/"
        },
        "id": "xHwzaST5GknE",
        "outputId": "e331735c-ead3-477f-b645-ec17d8d83eae"
      },
      "source": [
        "def calcular_entropia(px):\n",
        "  return np.log2(px)*px*-1\n",
        "\n",
        "print(calcular_entropia([0.25,0.75]))"
      ],
      "execution_count": 186,
      "outputs": [
        {
          "output_type": "stream",
          "text": [
            "[0.5        0.31127812]\n"
          ],
          "name": "stdout"
        }
      ]
    },
    {
      "cell_type": "markdown",
      "metadata": {
        "id": "_46QPdp0Pu7-"
      },
      "source": [
        "### **Ejercicio 4:**\n",
        "Cree una función para calcular este modelo sobre valores de de gasto de nuevos clientes , y luego cree una función ganancia_neta(x,g,c) donde:\n",
        "\n",
        "    x = vector conteniendo los valores de gasto del primer mes para nuevos clientes.\n",
        "    g = función que estima la ganancia en función de x\n",
        "    c = función que estima el costo en función de x\n"
      ]
    },
    {
      "cell_type": "code",
      "metadata": {
        "colab": {
          "base_uri": "https://localhost:8080/"
        },
        "id": "B28pgO0VP4xC",
        "outputId": "e4bbaf2e-e150-4f2a-db89-a510146ee4cc"
      },
      "source": [
        "def g(x):\n",
        "  ''' Devuelve las ganancias '''    \n",
        "  ganancia = (np.power(x,3) + 2.0*(np.power(x,2.0))+np.exp(0.0001*x) - np.sqrt(2.0*x))/50\n",
        "  return ganancia \n",
        "\n",
        "def c(x):\n",
        "  ''' Devuelve los costos '''\n",
        "  costo = (np.power(x,2) + x + np.log(0.0001*x) - np.sqrt(0.54*x))/100\n",
        "  return costo\n",
        "\n",
        "def ganancia_neta(x,g,c):\n",
        "  ''' Devuelve ganancia neta '''\n",
        "  return g(x) - c(x)\n",
        "\n",
        "x = np.array([100,50,25,100]) \n",
        "\n",
        "print(\"Ganancia Neta = \",ganancia_neta(x,g,c))\n"
      ],
      "execution_count": 200,
      "outputs": [
        {
          "output_type": "stream",
          "text": [
            "Ganancia Neta =  [20298.85689469  2574.42504495   330.9752857  20298.85689469]\n"
          ],
          "name": "stdout"
        }
      ]
    },
    {
      "cell_type": "markdown",
      "metadata": {
        "id": "4xAO75SYVWHi"
      },
      "source": [
        "### **EJercicio 5:**\n",
        "Aritmética Acumulativa\\\n",
        "Podemos usar la funcion np.cumsum para esto, en este ejercicio necesitamos determinar el \"lifetime value\" de cierto usuario en su 6to mes:"
      ]
    },
    {
      "cell_type": "code",
      "metadata": {
        "colab": {
          "base_uri": "https://localhost:8080/"
        },
        "id": "vVJXQKKPViGz",
        "outputId": "37f2cbe7-aa4f-455a-9bc0-ad7e81a66db0"
      },
      "source": [
        "def lifetime_value(ganancias_mensuales):\n",
        "    return np.cumsum(ganancias_mensuales)\n",
        "\n",
        "# Prueba:\n",
        "ganancias_usuario = np.array([25,150,125,75,100,45,22,30])\n",
        "lifetime_value_usuario = lifetime_value(ganancias_usuario)\n",
        "\n",
        "print(\"Lifetime value:\",lifetime_value_usuario)\n",
        "\n",
        "print(\"El valor del usuario a su sexto mes es :\",lifetime_value_usuario[5])"
      ],
      "execution_count": 201,
      "outputs": [
        {
          "output_type": "stream",
          "text": [
            "Lifetime value: [ 25 175 300 375 475 520 542 572]\n",
            "El valor del usuario a su sexto mes es : 520\n"
          ],
          "name": "stdout"
        }
      ]
    },
    {
      "cell_type": "markdown",
      "metadata": {
        "id": "KHYGEcVVbNI9"
      },
      "source": [
        "### **Ejercicio 6:**\n",
        "Usando argmax crear una función mode(x) para calcular la moda de un vector x , esta función debe devolver una tupla de 2 elementos de la forma: (valor,conteo)"
      ]
    },
    {
      "cell_type": "code",
      "metadata": {
        "colab": {
          "base_uri": "https://localhost:8080/"
        },
        "id": "HrRvYYOdWh4L",
        "outputId": "c8efe111-7c64-4008-c7b1-fd751786b0b7"
      },
      "source": [
        "from collections import Counter\n",
        "\n",
        "def mode(x):\n",
        "  count = Counter(x)\n",
        "  k = np.array(list(count.keys()))\n",
        "  v = np.array(list(count.values()))\n",
        "  mayor = np.argmax(v)\n",
        "  tupla = (k[mayor], v[mayor])\n",
        "  return tupla\n",
        "  \n",
        "x = [1,3,8,10,10,10,10,10,55,2,1,3,4,3]\n",
        "\n",
        "mode(x)"
      ],
      "execution_count": 259,
      "outputs": [
        {
          "output_type": "execute_result",
          "data": {
            "text/plain": [
              "(10, 5)"
            ]
          },
          "metadata": {
            "tags": []
          },
          "execution_count": 259
        }
      ]
    },
    {
      "cell_type": "markdown",
      "metadata": {
        "id": "GXWaj2kXbCjz"
      },
      "source": [
        "### **Ejercicio x :**\n",
        "Crear una función que reciba como parámetro un vector x y calcule su magnitud o norma(euclidiana o L2), luego usarla para evaluar 2 vectores \n",
        "que representan los errores generados por 2 modelos de machine learning y concluir cual de los 2 modelos es mejor."
      ]
    },
    {
      "cell_type": "code",
      "metadata": {
        "colab": {
          "base_uri": "https://localhost:8080/"
        },
        "id": "WZKa4Iv-WsC3",
        "outputId": "c49ab20c-8cc9-4c79-a3b7-a69b6f491625"
      },
      "source": [
        "def magnitud(x):    \n",
        "    return np.sqrt(np.sum(np.power(x,2))) # raiz cuadrada\n",
        "\n",
        "errores_modelo1 = np.array([1,2,1,2]) #\n",
        "errores_modelo2 = np.array([0,1,1,2]) #\n",
        "\n",
        "print(\"Magnitud Errores Modelo1 = \" + str(magnitud(errores_modelo1)))\n",
        "print(\"Magnitud Errores Modelo2 = \" + str(magnitud(errores_modelo2)))\n",
        "\n",
        "# elegir el mejor modelo con una condicional(if)\n",
        "if magnitud(errores_modelo1) > magnitud(errores_modelo2):\n",
        "  print(\"El modelo 2 es el mejor\")\n",
        "elif magnitud(errores_modelo1) < magnitud(errores_modelo2):\n",
        "  print(\"El modelo 1 es el mejor\")\n",
        "else:\n",
        "  print(\"Ambos modelos son equivalentes\")"
      ],
      "execution_count": 69,
      "outputs": [
        {
          "output_type": "stream",
          "text": [
            "Magnitud Errores Modelo1 = 3.1622776601683795\n",
            "Magnitud Errores Modelo2 = 2.449489742783178\n",
            "El modelo 2 es el mejor\n"
          ],
          "name": "stdout"
        }
      ]
    },
    {
      "cell_type": "code",
      "metadata": {
        "id": "oY6VvHYsWYTI"
      },
      "source": [
        ""
      ],
      "execution_count": null,
      "outputs": []
    }
  ]
}