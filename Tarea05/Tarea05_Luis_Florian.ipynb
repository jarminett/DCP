{
  "nbformat": 4,
  "nbformat_minor": 0,
  "metadata": {
    "colab": {
      "name": "Tarea05-Luis Florian.ipynb",
      "provenance": [],
      "collapsed_sections": [],
      "toc_visible": true,
      "authorship_tag": "ABX9TyN/7x2nNl1G4adsyy22FPpV",
      "include_colab_link": true
    },
    "kernelspec": {
      "name": "python3",
      "display_name": "Python 3"
    }
  },
  "cells": [
    {
      "cell_type": "markdown",
      "metadata": {
        "id": "view-in-github",
        "colab_type": "text"
      },
      "source": [
        "<a href=\"https://colab.research.google.com/github/jarminett/DCP/blob/main/Tarea05/Tarea05_Luis_Florian.ipynb\" target=\"_parent\"><img src=\"https://colab.research.google.com/assets/colab-badge.svg\" alt=\"Open In Colab\"/></a>"
      ]
    },
    {
      "cell_type": "markdown",
      "metadata": {
        "id": "dj_U7nGznffD"
      },
      "source": [
        "## **UNIVERSIDAD GALILEO**\n",
        "### Mestría en Data Science\n",
        "#### Luis Florian, 0710072\n"
      ]
    },
    {
      "cell_type": "code",
      "metadata": {
        "id": "b98s8iBGn8mP"
      },
      "source": [
        "import numpy as np"
      ],
      "execution_count": null,
      "outputs": []
    },
    {
      "cell_type": "markdown",
      "metadata": {
        "id": "FyrTcQdhailb"
      },
      "source": [
        "### **Ejercicio 1 :**\n",
        "Usando unicamente NumPy crea un vector de este tipo con el nombre xs\n",
        "\n",
        "[0. , 0.1 , 0.2 , 0.3 , 0.4 , 0.5 , 0.51, 0.52, 0.53, 0.54, 0.55, 0.56, 0.57, 0.58, 0.59, 0.6 , 0.7 , 0.8 , 0.9 , 1. ]\n"
      ]
    },
    {
      "cell_type": "code",
      "metadata": {
        "colab": {
          "base_uri": "https://localhost:8080/"
        },
        "id": "3XleTmWCSLd_",
        "outputId": "e6561cc3-4414-438e-b2bb-39988b04b481"
      },
      "source": [
        "a = np.linspace(0,0.5,num=6)\n",
        "b = np.linspace(0.51, 0.59,num=9)\n",
        "c = np.linspace(0.6,1,num=5)\n",
        "xs = np.hstack((a,b,c))\n",
        "xs"
      ],
      "execution_count": null,
      "outputs": [
        {
          "output_type": "execute_result",
          "data": {
            "text/plain": [
              "array([0.  , 0.1 , 0.2 , 0.3 , 0.4 , 0.5 , 0.51, 0.52, 0.53, 0.54, 0.55,\n",
              "       0.56, 0.57, 0.58, 0.59, 0.6 , 0.7 , 0.8 , 0.9 , 1.  ])"
            ]
          },
          "metadata": {
            "tags": []
          },
          "execution_count": 4
        }
      ]
    },
    {
      "cell_type": "markdown",
      "metadata": {
        "id": "-ZzFLm09cvZQ"
      },
      "source": [
        "### **Ejercicio 2:**\n",
        "En este ejercicio debemos remplazar el calculo de ys para hacerlo de manera \"vectorizada\" y eliminar el ciclo for. "
      ]
    },
    {
      "cell_type": "code",
      "metadata": {
        "colab": {
          "base_uri": "https://localhost:8080/"
        },
        "id": "0BvOwZV4c_4e",
        "outputId": "1e22decb-858c-4da1-bd71-12e6c7409c30"
      },
      "source": [
        "sample_points = 10000\n",
        "inicio_intervalo = 0\n",
        "ruido = 0.5*np.random.randn(sample_points) #el ruido comunmente se debe a aleatoriedad o captura no exacta de info.\n",
        "x = np.linspace(inicio_intervalo,5*np.pi,sample_points) \n",
        "y = np.sin(x) + ruido\n",
        "\n",
        "#ys es \"y suavizado\", inicialmente es una copia de y\n",
        "ys =  y.copy()\n",
        "\n",
        "ys2 = np.cumsum(ys,dtype=float)\n",
        "ys2[3:] = ys2[3:] - ys2[:-3]\n",
        "#First 3 elements sum is on position 2 of cumsum.\n",
        "ys2 = ys2[2:]/3\n",
        "\n",
        "print(ys2)\n",
        "\n"
      ],
      "execution_count": null,
      "outputs": [
        {
          "output_type": "stream",
          "text": [
            "[ 0.25826336  0.32794336  0.41375493 ... -0.2057877   0.34511954\n",
            "  0.53244143]\n"
          ],
          "name": "stdout"
        }
      ]
    },
    {
      "cell_type": "markdown",
      "metadata": {
        "id": "TumdVL7wFJR5"
      },
      "source": [
        "### **Ejercicio 3:**\n",
        "Para calcular la información de una distribución de probabilidad necesitamos calcular el producto entre la información de cada posible x y su probabilidad , cada uno de estos elementos nos indica cuanta incerteza aporta cada x a la entropía de la distribución. Crea una función que calcule esto, debe recibir un vector representando a la dist. de probabilidad y devoler otro vector con el termino de entropía para cada x. Por ejemplo:\n",
        "\n",
        "calcular_entropia([0.25,0.75])\n",
        "\n",
        "Debe resultar en :\n",
        "\n",
        "[0.5 , 0.31127812]"
      ]
    },
    {
      "cell_type": "code",
      "metadata": {
        "colab": {
          "base_uri": "https://localhost:8080/"
        },
        "id": "xHwzaST5GknE",
        "outputId": "bff15e39-3a50-4dda-be8c-19a9bcfa80e0"
      },
      "source": [
        "def calcular_entropia(px):\n",
        "  return np.log2(px)*px*-1\n",
        "\n",
        "print(calcular_entropia([0.25,0.75]))"
      ],
      "execution_count": null,
      "outputs": [
        {
          "output_type": "stream",
          "text": [
            "[0.5        0.31127812]\n"
          ],
          "name": "stdout"
        }
      ]
    },
    {
      "cell_type": "markdown",
      "metadata": {
        "id": "_46QPdp0Pu7-"
      },
      "source": [
        "### **Ejercicio 4:**\n",
        "Cree una función para calcular este modelo sobre valores de de gasto de nuevos clientes , y luego cree una función ganancia_neta(x,g,c) donde:\n",
        "\n",
        "    x = vector conteniendo los valores de gasto del primer mes para nuevos clientes.\n",
        "    g = función que estima la ganancia en función de x\n",
        "    c = función que estima el costo en función de x\n"
      ]
    },
    {
      "cell_type": "code",
      "metadata": {
        "colab": {
          "base_uri": "https://localhost:8080/"
        },
        "id": "B28pgO0VP4xC",
        "outputId": "796e3759-5c46-4ea1-ae5c-2688e022c0fd"
      },
      "source": [
        "def g(x):\n",
        "  ''' Devuelve las ganancias '''    \n",
        "  ganancia = (np.power(x,3) + 2.0*(np.power(x,2.0))+np.exp(0.0001*x) - np.sqrt(2.0*x))/50\n",
        "  return ganancia \n",
        "\n",
        "def c(x):\n",
        "  ''' Devuelve los costos '''\n",
        "  costo = (np.power(x,2) + x + np.log(0.0001*x) - np.sqrt(0.54*x))/100\n",
        "  return costo\n",
        "\n",
        "def ganancia_neta(x,g,c):\n",
        "  ''' Devuelve ganancia neta '''\n",
        "  return g(x) - c(x)\n",
        "\n",
        "x = np.array([100,50,25,100]) \n",
        "\n",
        "print(\"Ganancia Neta = \",ganancia_neta(x,g,c))\n"
      ],
      "execution_count": null,
      "outputs": [
        {
          "output_type": "stream",
          "text": [
            "Ganancia Neta =  [20298.85689469  2574.42504495   330.9752857  20298.85689469]\n"
          ],
          "name": "stdout"
        }
      ]
    },
    {
      "cell_type": "markdown",
      "metadata": {
        "id": "4xAO75SYVWHi"
      },
      "source": [
        "### **Ejercicio 5:**\n",
        "Aritmética Acumulativa\\\n",
        "Podemos usar la funcion np.cumsum para esto, en este ejercicio necesitamos determinar el \"lifetime value\" de cierto usuario en su 6to mes:"
      ]
    },
    {
      "cell_type": "code",
      "metadata": {
        "colab": {
          "base_uri": "https://localhost:8080/"
        },
        "id": "vVJXQKKPViGz",
        "outputId": "1483e673-57d8-4eb9-eacc-81407aacd742"
      },
      "source": [
        "def lifetime_value(ganancias_mensuales):\n",
        "    return np.cumsum(ganancias_mensuales)\n",
        "\n",
        "# Prueba:\n",
        "ganancias_usuario = np.array([25,150,125,75,100,45,22,30])\n",
        "lifetime_value_usuario = lifetime_value(ganancias_usuario)\n",
        "\n",
        "print(\"Lifetime value:\",lifetime_value_usuario)\n",
        "\n",
        "print(\"El valor del usuario a su sexto mes es :\",lifetime_value_usuario[5])"
      ],
      "execution_count": null,
      "outputs": [
        {
          "output_type": "stream",
          "text": [
            "Lifetime value: [ 25 175 300 375 475 520 542 572]\n",
            "El valor del usuario a su sexto mes es : 520\n"
          ],
          "name": "stdout"
        }
      ]
    },
    {
      "cell_type": "markdown",
      "metadata": {
        "id": "KHYGEcVVbNI9"
      },
      "source": [
        "### **Ejercicio 6:**\n",
        "Usando argmax crear una función mode(x) para calcular la moda de un vector x , esta función debe devolver una tupla de 2 elementos de la forma: (valor,conteo)"
      ]
    },
    {
      "cell_type": "code",
      "metadata": {
        "colab": {
          "base_uri": "https://localhost:8080/"
        },
        "id": "HrRvYYOdWh4L",
        "outputId": "a8cf09cd-1718-4679-81b9-bbe6d5bcacd0"
      },
      "source": [
        "from collections import Counter\n",
        "\n",
        "def mode(x):\n",
        "  count = Counter(x)\n",
        "  k = np.array(list(count.keys()))\n",
        "  v = np.array(list(count.values()))\n",
        "  mayor = np.argmax(v)\n",
        "  tupla = (k[mayor], v[mayor])\n",
        "  return tupla\n",
        "  \n",
        "x = [1,3,8,10,10,10,10,10,55,2,1,3,4,3]\n",
        "\n",
        "mode(x)"
      ],
      "execution_count": null,
      "outputs": [
        {
          "output_type": "execute_result",
          "data": {
            "text/plain": [
              "(10, 5)"
            ]
          },
          "metadata": {
            "tags": []
          },
          "execution_count": 9
        }
      ]
    },
    {
      "cell_type": "markdown",
      "metadata": {
        "id": "CPFUvnSkbrtx"
      },
      "source": [
        "### **Ejercicio 7:**\n",
        "Crear una función para calcular la entropía  de una distribución de probabilidad representada como un vector.\n",
        "$$S = -\\sum_i^nP(x_{i})log_{2}P(x_{i})$$"
      ]
    },
    {
      "cell_type": "code",
      "metadata": {
        "colab": {
          "base_uri": "https://localhost:8080/"
        },
        "id": "nTIl8KFhb1JG",
        "outputId": "754eb136-e905-4296-b65c-f59e3a226080"
      },
      "source": [
        "def entropia(px):\n",
        "  return np.sum(np.log2(px)*px)*-1\n",
        "\n",
        "print(\"Entropia = \",entropia([0.25,0.75]))\n"
      ],
      "execution_count": null,
      "outputs": [
        {
          "output_type": "stream",
          "text": [
            "Entropia =  0.8112781244591328\n"
          ],
          "name": "stdout"
        }
      ]
    },
    {
      "cell_type": "markdown",
      "metadata": {
        "id": "4-H5lOeUppne"
      },
      "source": [
        "### **Ejercicio 8:**\n",
        "<img src=\"https://image.slidesharecdn.com/publishintroductiontodeeplearninginpythonandmatlab1-160502102437/95/introduction-to-deep-learning-in-python-and-matlab-54-638.jpg?cb=1462185644\">"
      ]
    },
    {
      "cell_type": "code",
      "metadata": {
        "colab": {
          "base_uri": "https://localhost:8080/"
        },
        "id": "2CeHcaVyrujN",
        "outputId": "ee803430-8a46-418a-90ad-68b4f555b38b"
      },
      "source": [
        "def cross_entropy(Y,Y_hat):\n",
        "  return np.nansum(np.log(Y_hat)*Y)*-1    \n",
        "\n",
        "y  = np.array([1.0,0,0])\n",
        "y_hat = np.array([0.7,0.2,1]) # <- resultado de algun modelo predictivo\n",
        "\n",
        "cross_entropy(y,y_hat)"
      ],
      "execution_count": null,
      "outputs": [
        {
          "output_type": "execute_result",
          "data": {
            "text/plain": [
              "0.35667494393873245"
            ]
          },
          "metadata": {
            "tags": []
          },
          "execution_count": 11
        }
      ]
    },
    {
      "cell_type": "markdown",
      "metadata": {
        "id": "GXWaj2kXbCjz"
      },
      "source": [
        "### **Ejercicio 9 :**\n",
        "Crear una función que reciba como parámetro un vector x y calcule su magnitud o norma(euclidiana o L2), luego usarla para evaluar 2 vectores \n",
        "que representan los errores generados por 2 modelos de machine learning y concluir cual de los 2 modelos es mejor."
      ]
    },
    {
      "cell_type": "code",
      "metadata": {
        "colab": {
          "base_uri": "https://localhost:8080/"
        },
        "id": "WZKa4Iv-WsC3",
        "outputId": "b8cb9052-a54c-45d1-9c20-1e48e1cb97fe"
      },
      "source": [
        "def magnitud(x):    \n",
        "    return np.sqrt(np.sum(np.power(x,2))) # raiz cuadrada\n",
        "\n",
        "errores_modelo1 = np.array([1,2,1,2]) #\n",
        "errores_modelo2 = np.array([0,1,1,2]) #\n",
        "\n",
        "print(\"Magnitud Errores Modelo1 = \" + str(magnitud(errores_modelo1)))\n",
        "print(\"Magnitud Errores Modelo2 = \" + str(magnitud(errores_modelo2)))\n",
        "\n",
        "# elegir el mejor modelo con una condicional(if)\n",
        "if magnitud(errores_modelo1) > magnitud(errores_modelo2):\n",
        "  print(\"El modelo 2 es el mejor\")\n",
        "elif magnitud(errores_modelo1) < magnitud(errores_modelo2):\n",
        "  print(\"El modelo 1 es el mejor\")\n",
        "else:\n",
        "  print(\"Ambos modelos son equivalentes\")"
      ],
      "execution_count": null,
      "outputs": [
        {
          "output_type": "stream",
          "text": [
            "Magnitud Errores Modelo1 = 3.1622776601683795\n",
            "Magnitud Errores Modelo2 = 2.449489742783178\n",
            "El modelo 2 es el mejor\n"
          ],
          "name": "stdout"
        }
      ]
    },
    {
      "cell_type": "markdown",
      "metadata": {
        "id": "etC-ms6GwVdj"
      },
      "source": [
        "### **Ejercicio 10 :**\n",
        "Usando la función del ejercicio anterior, crea otra función normalizar(x) que reciba de parámetro un vector x aplique normalización sobre este, el resultado debe ser un nuevo vector del tamaño de x cuya magnitud es igual a 1.0"
      ]
    },
    {
      "cell_type": "code",
      "metadata": {
        "colab": {
          "base_uri": "https://localhost:8080/"
        },
        "id": "oY6VvHYsWYTI",
        "outputId": "ab603810-137b-4ac7-ecbb-cf5faef6b49e"
      },
      "source": [
        "def normalizar(x):\n",
        "  return x/magnitud(x)    \n",
        "    \n",
        "print(magnitud(normalizar(errores_modelo1)))\n",
        "print(normalizar(errores_modelo2))"
      ],
      "execution_count": null,
      "outputs": [
        {
          "output_type": "stream",
          "text": [
            "1.0\n",
            "[0.         0.40824829 0.40824829 0.81649658]\n"
          ],
          "name": "stdout"
        }
      ]
    },
    {
      "cell_type": "markdown",
      "metadata": {
        "id": "mF-cYUmBxMvl"
      },
      "source": [
        "### **Ejercicio 11:**\n",
        "\n",
        "INPUT LAYER: un vector X de tamaño = 2 que representa los datos de entrada\n",
        "HIDDEN_LAYER :capa oculta con 2 neuronas definidas por los vectores:\n",
        "- HL1 = [0.25,0.37]\n",
        "- HL2 = [-8,14]\n",
        "- OUTPUT_LAYER = capa de salida definida por el vector [4,9]\n"
      ]
    },
    {
      "cell_type": "code",
      "metadata": {
        "colab": {
          "base_uri": "https://localhost:8080/"
        },
        "id": "ripk-EYQ6Zm7",
        "outputId": "aa95f77a-3945-4df3-9557-6947fbd4fab0"
      },
      "source": [
        "def neural_network(x):\n",
        "  HL1 = np.array([0.25,0.37])\n",
        "  HL2 = np.array([-8,14])\n",
        "  OUTPUT_LAYER = np.array([4,9])\n",
        "  HL1_R = np.dot(x,HL1)\n",
        "  HL2_R = np.dot(x,HL2)\n",
        "  if HL1_R > HL2_R:\n",
        "    print(\"\\nHL1 tiene un patrón de mayor medida en X=\",x)\n",
        "  elif HL2_R > HL1_R:\n",
        "    print(\"\\nHL2 tiene un patrón de mayor medida en X=\",x)\n",
        "  else:\n",
        "    print(\"\\nHL2 y HL1 tiene el mismo patrón de medida en X=\",x)\n",
        "\n",
        "  HL_R = np.array([HL1_R,HL2_R])\n",
        "  O = np.dot(OUTPUT_LAYER,HL_R)\n",
        "  return O\n",
        "\n",
        "X1 = np.array([0.50,0.72])\n",
        "X2 = np.array([-4,7])\n",
        "X3 = np.zeros_like(X2)\n",
        "X4 = np.ones_like(X1)\n",
        "X5 = np.random.randn(X1.shape[0])\n",
        "\n",
        "print(\"Output de la Red Neural=\",neural_network(X1))\n",
        "print(\"Output de la Red Neural=\",neural_network(X2))\n",
        "print(\"Output de la Red Neural=\",neural_network(X3))\n",
        "print(\"Output de la Red Neural=\",neural_network(X4))\n",
        "print(\"Output de la Red Neural=\",neural_network(X5))"
      ],
      "execution_count": null,
      "outputs": [
        {
          "output_type": "stream",
          "text": [
            "\n",
            "HL2 tiene un patrón de mayor medida en X= [0.5  0.72]\n",
            "Output de la Red Neural= 56.2856\n",
            "\n",
            "HL2 tiene un patrón de mayor medida en X= [-4  7]\n",
            "Output de la Red Neural= 1176.36\n",
            "\n",
            "HL2 y HL1 tiene el mismo patrón de medida en X= [0 0]\n",
            "Output de la Red Neural= 0.0\n",
            "\n",
            "HL2 tiene un patrón de mayor medida en X= [1. 1.]\n",
            "Output de la Red Neural= 56.48\n",
            "\n",
            "HL1 tiene un patrón de mayor medida en X= [-0.0920911 -0.1416612]\n",
            "Output de la Red Neural= -11.520501492361996\n"
          ],
          "name": "stdout"
        }
      ]
    },
    {
      "cell_type": "markdown",
      "metadata": {
        "id": "FHaqJmcmEiYi"
      },
      "source": [
        "### **Ejercicio 12:**\n",
        "En este ejercicio usamos correlación cruzada para calcular las medias moviles promediando 3 puntos"
      ]
    },
    {
      "cell_type": "code",
      "metadata": {
        "colab": {
          "base_uri": "https://localhost:8080/"
        },
        "id": "KzP-BLkjEuBw",
        "outputId": "a9ce757a-7449-4d58-830f-e5685ee2987e"
      },
      "source": [
        "ruido = 0.1*np.random.randn(15) #el ruido comunmente se debe a aleatoriedad o captura no exacta de info.\n",
        "x = np.linspace(0,2*np.pi,15) \n",
        "y = np.sin(x) + ruido\n",
        "\n",
        "filtro = np.array([1/3,1/3,1/3]) #para lograr las medias moviles a traves de correlacion cruzada\n",
        "\n",
        "## tu codigo aqui (~ 3 linea de codigo)\n",
        "mm = y.copy()\n",
        "print(\"\\n\",mm)\n",
        "for i in range(0,len(mm)-2):\n",
        "  mm[i+1] = np.dot(mm[i:i+3],filtro)\n",
        "\n",
        "print(\"\\n\",mm)\n",
        "\n",
        "\n"
      ],
      "execution_count": null,
      "outputs": [
        {
          "output_type": "stream",
          "text": [
            "\n",
            " [-0.05336708  0.36274363  0.60008493  1.0282884   0.96472474  0.83125752\n",
            "  0.54808382 -0.15970357 -0.52693535 -0.66214932 -0.99309201 -0.97754592\n",
            " -0.80626503 -0.73796016 -0.01174517]\n",
            "\n",
            " [-0.05336708  0.30315383  0.64384239  0.87895184  0.8916447   0.75699535\n",
            "  0.38179187 -0.10161568 -0.43023345 -0.69515826 -0.88859873 -0.89080323\n",
            " -0.81167614 -0.52046049 -0.01174517]\n"
          ],
          "name": "stdout"
        }
      ]
    },
    {
      "cell_type": "markdown",
      "metadata": {
        "id": "-tcX8JmfY0Sp"
      },
      "source": [
        "### **Ejercicio 13:**\n",
        "Dado el vector x, usar operadores lógicos sobre vectores y acceso a elementos usando vectores booleanos , escribir un programa que calcule eun nuevo vector z conteniendo el valor absoluto de el vector x."
      ]
    },
    {
      "cell_type": "code",
      "metadata": {
        "colab": {
          "base_uri": "https://localhost:8080/"
        },
        "id": "sPYfHJO7Y7Dn",
        "outputId": "a54369f9-f5ce-4e33-92d3-03dd27e51495"
      },
      "source": [
        "x = np.linspace(-2,2,9)\n",
        "print(\"Original x = \",x)\n",
        "x[x<0] = x[x<0]*-1\n",
        "print(\"Abs x = \",x)"
      ],
      "execution_count": null,
      "outputs": [
        {
          "output_type": "stream",
          "text": [
            "Original x =  [-2.  -1.5 -1.  -0.5  0.   0.5  1.   1.5  2. ]\n",
            "Abs x =  [2.  1.5 1.  0.5 0.  0.5 1.  1.5 2. ]\n"
          ],
          "name": "stdout"
        }
      ]
    },
    {
      "cell_type": "markdown",
      "metadata": {
        "id": "kFO4QNmchWIa"
      },
      "source": [
        "### **Ejercicio 14:**\n",
        "Implementar la función:\n",
        "$$h(x) = \\begin{cases}0 & x< 0\\\\1 & 0<=x <=1\\\\0 & x> 1\\end{cases}$$"
      ]
    },
    {
      "cell_type": "code",
      "metadata": {
        "colab": {
          "base_uri": "https://localhost:8080/"
        },
        "id": "U3jBDttOhcrH",
        "outputId": "b6db4485-0ed1-4706-b7eb-cd8e43fefe98"
      },
      "source": [
        "def h(x):\n",
        "  uno = np.logical_and(x>=0,x<=1)\n",
        "  x[uno] = 1\n",
        "  x[x<0] = 0\n",
        "  x[x>1] = 0   \n",
        "  return x\n",
        "\n",
        "x = np.array([0.1,-2,0.5,5,0.9,-0.7,-10])\n",
        "print(h(x))"
      ],
      "execution_count": null,
      "outputs": [
        {
          "output_type": "stream",
          "text": [
            "[1. 0. 1. 0. 1. 0. 0.]\n"
          ],
          "name": "stdout"
        }
      ]
    },
    {
      "cell_type": "markdown",
      "metadata": {
        "id": "xG3Gv3SWiWL9"
      },
      "source": [
        "### **Ejercicio 15:**\n",
        "Usando select implementar una función k(x) con la siguiente definición:\n",
        "$$k(x) = \\begin{cases}-x & x< 0\\\\x^{3}  &0<=x<1\\\\x^{2}  &1<=x<2\\\\4  &otherwise\\end{cases}$$"
      ]
    },
    {
      "cell_type": "code",
      "metadata": {
        "colab": {
          "base_uri": "https://localhost:8080/"
        },
        "id": "oOu9XDCGiae8",
        "outputId": "c49da8b3-79b2-4e28-b219-04ee6227a632"
      },
      "source": [
        "def k(x): \n",
        "  x3 = np.logical_and(x>=0,x<1)\n",
        "  x2 = np.logical_and(x>=1,x<2)\n",
        "  condiciones = [x<0, x3, x2]\n",
        "  resultados = [x*-1, x**3, x**2]\n",
        "  y = np.select(condiciones,resultados,4)\n",
        "  return y\n",
        "\n",
        "x = np.array([-1,-5,0.5,1,2,1.5,2.9,7])\n",
        "print(\"   x = \",x)\n",
        "print(\"k(x) = \", k(x))"
      ],
      "execution_count": null,
      "outputs": [
        {
          "output_type": "stream",
          "text": [
            "   x =  [-1.  -5.   0.5  1.   2.   1.5  2.9  7. ]\n",
            "k(x) =  [1.    5.    0.125 1.    4.    2.25  4.    4.   ]\n"
          ],
          "name": "stdout"
        }
      ]
    },
    {
      "cell_type": "markdown",
      "metadata": {
        "id": "1HDxUuPOm1Oz"
      },
      "source": [
        "### **Ejercicio 16:**\n",
        "Investigar piecewise y:\n",
        "*  Usarlo para implementar la función anterior de manera eficiente\n",
        "*  Usar piscewise para implementar la función:\n",
        "\n",
        "$$m(x) = \\begin{cases}e^{2x} & x< 0\\\\1  &0<=x<1\\\\e^{1-x}  &x>=1\\\\\\end{cases}$$"
      ]
    },
    {
      "cell_type": "code",
      "metadata": {
        "colab": {
          "base_uri": "https://localhost:8080/"
        },
        "id": "yVmN_44Dm6pL",
        "outputId": "3419565c-e5b5-4ff6-9cbd-bc9711775ff4"
      },
      "source": [
        "def m(x):\n",
        "  uno = np.logical_and(x>=0,x<1)\n",
        "  condiciones = [x<0, uno, x>=1]\n",
        "  resultados = [lambda x: np.e**(2*x), 1, lambda x:np.e**(1-x)]\n",
        "  return np.piecewise(x,condiciones,resultados)\n",
        "\n",
        "x = np.array([-1,-5,0.5,1,2,1.5,2.9,7])\n",
        "print(\"   x = \",x)\n",
        "print(\"m(x) = \", m(x))"
      ],
      "execution_count": null,
      "outputs": [
        {
          "output_type": "stream",
          "text": [
            "   x =  [-1.  -5.   0.5  1.   2.   1.5  2.9  7. ]\n",
            "m(x) =  [1.35335283e-01 4.53999298e-05 1.00000000e+00 1.00000000e+00\n",
            " 3.67879441e-01 6.06530660e-01 1.49568619e-01 2.47875218e-03]\n"
          ],
          "name": "stdout"
        }
      ]
    },
    {
      "cell_type": "markdown",
      "metadata": {
        "id": "U8dOAb0H1pfQ"
      },
      "source": [
        "# Investigación"
      ]
    },
    {
      "cell_type": "markdown",
      "metadata": {
        "id": "YPIxQuFo1ta2"
      },
      "source": [
        "### **Proyección Vectorial**\n",
        "\n",
        "La proyección vectorial de *v* sobre *w* no es más que la \"sombra\" de *v* en *w*.  La proyección vectorial también es llamada vector component or vector resolution.\n",
        "\n",
        "**Ejemplo:**  En el siguiente ejemplo se muestra en verde el vector resultado de la proyeccion del vector **u** sobre el vector **v**.\n",
        "\n",
        "<img src=\"https://ekuatio.com/wp-content/uploads/proyeccion-vectores-3.png\">\n",
        "\n",
        "A continuación se implementa la funcióón proj(v,w), la cual recibe dos vectores y calcula la proyección de v sobre w."
      ]
    },
    {
      "cell_type": "code",
      "metadata": {
        "colab": {
          "base_uri": "https://localhost:8080/",
          "height": 269
        },
        "id": "C-Cf_Sti41BH",
        "outputId": "c71a4c1d-962a-4dc6-fe71-3bb286659f12"
      },
      "source": [
        "import matplotlib.pyplot as plt\n",
        "\n",
        "\n",
        "def proj(v,w):\n",
        "  '''v on w vector projection'''\n",
        "  z = w * np.dot(v,w) / np.dot(w,w)\n",
        "  return z\n",
        "\n",
        "v = np.array([1,2])\n",
        "w = np.array([2,0])\n",
        "\n",
        "z = proj(v,w)\n",
        "\n",
        "plt.arrow(0,0,v[0],v[1],head_width=0.1,head_length=0.1)\n",
        "plt.arrow(0,0,w[0],w[1],head_width=0.1,head_length=0.1)\n",
        "plt.arrow(0,0,z[0],z[1],head_width=0.1,head_length=0.1)\n",
        "\n",
        "plt.xlim(-1,3)\n",
        "plt.ylim(-2,2.5)\n",
        "plt.show()\n",
        "\n",
        "z = proj(v,w)\n",
        "\n"
      ],
      "execution_count": null,
      "outputs": [
        {
          "output_type": "display_data",
          "data": {
            "image/png": "[encoded data removed]",
            "text/plain": [
              "<Figure size 432x288 with 1 Axes>"
            ]
          },
          "metadata": {
            "tags": [],
            "needs_background": "light"
          }
        }
      ]
    },
    {
      "cell_type": "markdown",
      "metadata": {
        "id": "fOlWTBdV8DtW"
      },
      "source": [
        "**Aplicaciones de Proyección Vectorial**\\\n",
        "Segun investigué hay bastante aplicación de proyecci[on vectorial.  A continuación se nombran algunas de ellas.\n",
        "\n",
        "*   The QR, the Eigenvalue, and the SVD matrix decomposition.\n",
        "*   Least Squares, Linear Regression, Multivariate Linear Regression.\n",
        "*   Dimensionality Reduction, PCA, MDS.\n",
        "\n"
      ]
    },
    {
      "cell_type": "markdown",
      "metadata": {
        "id": "MDHhIwD68y1J"
      },
      "source": [
        "## **Producto Cruz**\n",
        "El producto cruz es muy utilizado para resolver problemas de ingenieria y física.  Se trata de una operación binaria entre dos vectores, el resultado es un vector perfendicular a estos, y por lo normal al plano que los contiene.  El sentido del vector resultante varía d eacuerdo al ángulo entre los dos vectores iniciales.\n",
        "\n",
        "A continuación se observa un ejemplo gráfico.\n",
        "\n",
        "<img src=\"https://upload.wikimedia.org/wikipedia/commons/thumb/4/4e/Cross_product_parallelogram.svg/480px-Cross_product_parallelogram.svg.png\">"
      ]
    },
    {
      "cell_type": "markdown",
      "metadata": {
        "id": "Mp4D3y1v_Qd8"
      },
      "source": [
        "**Producto Cruz en Numpy**\n",
        "El cálculo de producto cruz en numpy es simple mediante la función cross, la cual recibe los vectores a calcular producto cruz y devuelve el resultado.\n",
        "\n",
        "Ejemplo:\n",
        "\n"
      ]
    },
    {
      "cell_type": "code",
      "metadata": {
        "colab": {
          "base_uri": "https://localhost:8080/"
        },
        "id": "LF0XWtSX_r9p",
        "outputId": "f78ddd24-1441-46b2-f91e-5ad53a082ec9"
      },
      "source": [
        "def productoCruz(x,y):\n",
        "  return np.cross(x,y)\n",
        "\n",
        "a = np.array([1, 2, 3])\n",
        "b = np.array([4, 5, 6])\n",
        "\n",
        "print(\"  a = \",a)\n",
        "print(\"  b = \",b)\n",
        "print(\"axb = \",productoCruz(a,b))"
      ],
      "execution_count": null,
      "outputs": [
        {
          "output_type": "stream",
          "text": [
            "  a =  [1 2 3]\n",
            "  b =  [4 5 6]\n",
            "axb =  [-3  6 -3]\n"
          ],
          "name": "stdout"
        }
      ]
    },
    {
      "cell_type": "markdown",
      "metadata": {
        "id": "uemqzOXzEUmt"
      },
      "source": [
        "**Interpretación del producto cruz**\n",
        "\n",
        "Si dos vectores **u** y **v** son linealmente independientes, es decir, que no están alineados, el producto vectorial entre ellso es un vector perpendicular al plano que ambos forman.\n",
        "\n",
        "El modulo del producto vectorial es el módulo del primero por el módulo del segundo, multiplicado por el sin del ángulo que ambos forman.  \n",
        "\n",
        "El sentido depende del orden en que se calcula el producto.  No es lo mismo uxv a vxu.  Debo tomar el angulo del primero al segundo por el camino mas corto.  Es decir, el producto cruz no es comnutativo.  Personalmente me gusta utilizar la ley de la mano derecha para identificar el sentido y dirección del vector resultante del producto cruz.  Es decir si el camino más corto para cerrar el ángulo entre **u** y **v** es a favor de las manecillas del reloj, esto indica que el producto cruz va hacia abajo (-z) y lo contrario si es en contra de las manecillas.\n",
        "\n",
        "Encontré una imagen que describe lo anterior.\n",
        "\n",
        "<img src=\"data:image/png;base64,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\">\n",
        "\n"
      ]
    },
    {
      "cell_type": "markdown",
      "metadata": {
        "id": "3aiAAPxHHuzX"
      },
      "source": [
        "**Aplicación de Producto Cruz**\n",
        "\n",
        "Las redes neuronales almacenan pesos en matrices. El álgebra lineal hace que las operaciones matriciales sean rápidas y fáciles, \n",
        "especialmente cuando se entrena en GPU. De hecho, las GPU se crearon teniendo en cuenta las operaciones vectoriales y matriciales. \n",
        "De manera similar a cómo las imágenes se pueden representar como matrices de píxeles, los videojuegos generan experiencias \n",
        "de juego atractivas utilizando matrices enormes y en constante evolución. En lugar de procesar los píxeles uno por uno, \n",
        "las GPU manipulan matrices completas de píxeles en paralelo. "
      ]
    }
  ]
}