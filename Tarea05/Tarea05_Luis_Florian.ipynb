{
  "nbformat": 4,
  "nbformat_minor": 0,
  "metadata": {
    "colab": {
      "name": "Tarea05-Luis Florian.ipynb",
      "provenance": [],
      "collapsed_sections": [],
      "toc_visible": true,
      "authorship_tag": "ABX9TyOoxzp5GIZeD3rb/8WXToYK",
      "include_colab_link": true
    },
    "kernelspec": {
      "name": "python3",
      "display_name": "Python 3"
    }
  },
  "cells": [
    {
      "cell_type": "markdown",
      "metadata": {
        "id": "view-in-github",
        "colab_type": "text"
      },
      "source": [
        "<a href=\"https://colab.research.google.com/github/jarminett/DCP/blob/main/Tarea05/Tarea05_Luis_Florian.ipynb\" target=\"_parent\"><img src=\"https://colab.research.google.com/assets/colab-badge.svg\" alt=\"Open In Colab\"/></a>"
      ]
    },
    {
      "cell_type": "markdown",
      "metadata": {
        "id": "dj_U7nGznffD"
      },
      "source": [
        "## **UNIVERSIDAD GALILEO**\n",
        "### Mestría en Data Science\n",
        "#### Luis Florian, 0710072\n"
      ]
    },
    {
      "cell_type": "code",
      "metadata": {
        "id": "b98s8iBGn8mP"
      },
      "source": [
        "import numpy as np"
      ],
      "execution_count": 2,
      "outputs": []
    },
    {
      "cell_type": "markdown",
      "metadata": {
        "id": "FyrTcQdhailb"
      },
      "source": [
        "### **Ejercicio 1 :**\n",
        "Usando unicamente NumPy crea un vector de este tipo con el nombre xs\n",
        "\n",
        "[0. , 0.1 , 0.2 , 0.3 , 0.4 , 0.5 , 0.51, 0.52, 0.53, 0.54, 0.55, 0.56, 0.57, 0.58, 0.59, 0.6 , 0.7 , 0.8 , 0.9 , 1. ]\n"
      ]
    },
    {
      "cell_type": "code",
      "metadata": {
        "colab": {
          "base_uri": "https://localhost:8080/"
        },
        "id": "3XleTmWCSLd_",
        "outputId": "38fd32d5-2b6e-4994-a7d4-9dc074d1bb72"
      },
      "source": [
        "a = np.linspace(0,0.5,num=6)\n",
        "b = np.linspace(0.51, 0.59,num=9)\n",
        "c = np.linspace(0.6,1,num=5)\n",
        "xs = np.hstack((a,b,c))\n",
        "xs"
      ],
      "execution_count": 3,
      "outputs": [
        {
          "output_type": "execute_result",
          "data": {
            "text/plain": [
              "array([0.  , 0.1 , 0.2 , 0.3 , 0.4 , 0.5 , 0.51, 0.52, 0.53, 0.54, 0.55,\n",
              "       0.56, 0.57, 0.58, 0.59, 0.6 , 0.7 , 0.8 , 0.9 , 1.  ])"
            ]
          },
          "metadata": {
            "tags": []
          },
          "execution_count": 3
        }
      ]
    },
    {
      "cell_type": "markdown",
      "metadata": {
        "id": "-ZzFLm09cvZQ"
      },
      "source": [
        "### **Ejercicio 2:**\n",
        "En este ejercicio debemos remplazar el calculo de ys para hacerlo de manera \"vectorizada\" y eliminar el ciclo for. "
      ]
    },
    {
      "cell_type": "code",
      "metadata": {
        "colab": {
          "base_uri": "https://localhost:8080/"
        },
        "id": "0BvOwZV4c_4e",
        "outputId": "1444e152-d833-4777-c7b6-517331594e72"
      },
      "source": [
        "sample_points = 10000\n",
        "inicio_intervalo = 0\n",
        "ruido = 0.5*np.random.randn(sample_points) #el ruido comunmente se debe a aleatoriedad o captura no exacta de info.\n",
        "x = np.linspace(inicio_intervalo,5*np.pi,sample_points) \n",
        "y = np.sin(x) + ruido\n",
        "\n",
        "#ys es \"y suavizado\", inicialmente es una copia de y\n",
        "ys =  y.copy()\n",
        "\n",
        "ys2 = np.cumsum(ys,dtype=float)\n",
        "ys2[3:] = ys2[3:] - ys2[:-3]\n",
        "#First 3 elements sum is on position 2 of cumsum.\n",
        "ys2 = ys2[2:]/3\n",
        "\n",
        "print(ys2)\n",
        "\n"
      ],
      "execution_count": 4,
      "outputs": [
        {
          "output_type": "stream",
          "text": [
            "[-0.48765082 -0.12062591  0.18811102 ...  0.13971441  0.11547703\n",
            "  0.41086472]\n"
          ],
          "name": "stdout"
        }
      ]
    },
    {
      "cell_type": "markdown",
      "metadata": {
        "id": "TumdVL7wFJR5"
      },
      "source": [
        "### **Ejercicio 3:**\n",
        "Para calcular la información de una distribución de probabilidad necesitamos calcular el producto entre la información de cada posible x y su probabilidad , cada uno de estos elementos nos indica cuanta incerteza aporta cada x a la entropía de la distribución. Crea una función que calcule esto, debe recibir un vector representando a la dist. de probabilidad y devoler otro vector con el termino de entropía para cada x. Por ejemplo:\n",
        "\n",
        "calcular_entropia([0.25,0.75])\n",
        "\n",
        "Debe resultar en :\n",
        "\n",
        "[0.5 , 0.31127812]"
      ]
    },
    {
      "cell_type": "code",
      "metadata": {
        "colab": {
          "base_uri": "https://localhost:8080/"
        },
        "id": "xHwzaST5GknE",
        "outputId": "583dcef1-b1a2-4e1a-f30b-69255da494f0"
      },
      "source": [
        "def calcular_entropia(px):\n",
        "  return np.log2(px)*px*-1\n",
        "\n",
        "print(calcular_entropia([0.25,0.75]))"
      ],
      "execution_count": 5,
      "outputs": [
        {
          "output_type": "stream",
          "text": [
            "[0.5        0.31127812]\n"
          ],
          "name": "stdout"
        }
      ]
    },
    {
      "cell_type": "markdown",
      "metadata": {
        "id": "_46QPdp0Pu7-"
      },
      "source": [
        "### **Ejercicio 4:**\n",
        "Cree una función para calcular este modelo sobre valores de de gasto de nuevos clientes , y luego cree una función ganancia_neta(x,g,c) donde:\n",
        "\n",
        "    x = vector conteniendo los valores de gasto del primer mes para nuevos clientes.\n",
        "    g = función que estima la ganancia en función de x\n",
        "    c = función que estima el costo en función de x\n"
      ]
    },
    {
      "cell_type": "code",
      "metadata": {
        "colab": {
          "base_uri": "https://localhost:8080/"
        },
        "id": "B28pgO0VP4xC",
        "outputId": "a86f09d5-1640-477c-96f3-351df0d06ee5"
      },
      "source": [
        "def g(x):\n",
        "  ''' Devuelve las ganancias '''    \n",
        "  ganancia = (np.power(x,3) + 2.0*(np.power(x,2.0))+np.exp(0.0001*x) - np.sqrt(2.0*x))/50\n",
        "  return ganancia \n",
        "\n",
        "def c(x):\n",
        "  ''' Devuelve los costos '''\n",
        "  costo = (np.power(x,2) + x + np.log(0.0001*x) - np.sqrt(0.54*x))/100\n",
        "  return costo\n",
        "\n",
        "def ganancia_neta(x,g,c):\n",
        "  ''' Devuelve ganancia neta '''\n",
        "  return g(x) - c(x)\n",
        "\n",
        "x = np.array([100,50,25,100]) \n",
        "\n",
        "print(\"Ganancia Neta = \",ganancia_neta(x,g,c))\n"
      ],
      "execution_count": 6,
      "outputs": [
        {
          "output_type": "stream",
          "text": [
            "Ganancia Neta =  [20298.85689469  2574.42504495   330.9752857  20298.85689469]\n"
          ],
          "name": "stdout"
        }
      ]
    },
    {
      "cell_type": "markdown",
      "metadata": {
        "id": "4xAO75SYVWHi"
      },
      "source": [
        "### **Ejercicio 5:**\n",
        "Aritmética Acumulativa\\\n",
        "Podemos usar la funcion np.cumsum para esto, en este ejercicio necesitamos determinar el \"lifetime value\" de cierto usuario en su 6to mes:"
      ]
    },
    {
      "cell_type": "code",
      "metadata": {
        "colab": {
          "base_uri": "https://localhost:8080/"
        },
        "id": "vVJXQKKPViGz",
        "outputId": "b05a1c34-1806-4697-c8ed-8a0225310c6a"
      },
      "source": [
        "def lifetime_value(ganancias_mensuales):\n",
        "    return np.cumsum(ganancias_mensuales)\n",
        "\n",
        "# Prueba:\n",
        "ganancias_usuario = np.array([25,150,125,75,100,45,22,30])\n",
        "lifetime_value_usuario = lifetime_value(ganancias_usuario)\n",
        "\n",
        "print(\"Lifetime value:\",lifetime_value_usuario)\n",
        "\n",
        "print(\"El valor del usuario a su sexto mes es :\",lifetime_value_usuario[5])"
      ],
      "execution_count": 7,
      "outputs": [
        {
          "output_type": "stream",
          "text": [
            "Lifetime value: [ 25 175 300 375 475 520 542 572]\n",
            "El valor del usuario a su sexto mes es : 520\n"
          ],
          "name": "stdout"
        }
      ]
    },
    {
      "cell_type": "markdown",
      "metadata": {
        "id": "KHYGEcVVbNI9"
      },
      "source": [
        "### **Ejercicio 6:**\n",
        "Usando argmax crear una función mode(x) para calcular la moda de un vector x , esta función debe devolver una tupla de 2 elementos de la forma: (valor,conteo)"
      ]
    },
    {
      "cell_type": "code",
      "metadata": {
        "colab": {
          "base_uri": "https://localhost:8080/"
        },
        "id": "HrRvYYOdWh4L",
        "outputId": "5c84f193-77a3-4ff6-d78c-e76e81e2a4a3"
      },
      "source": [
        "from collections import Counter\n",
        "\n",
        "def mode(x):\n",
        "  count = Counter(x)\n",
        "  k = np.array(list(count.keys()))\n",
        "  v = np.array(list(count.values()))\n",
        "  mayor = np.argmax(v)\n",
        "  tupla = (k[mayor], v[mayor])\n",
        "  return tupla\n",
        "  \n",
        "x = [1,3,8,10,10,10,10,10,55,2,1,3,4,3]\n",
        "\n",
        "mode(x)"
      ],
      "execution_count": 8,
      "outputs": [
        {
          "output_type": "execute_result",
          "data": {
            "text/plain": [
              "(10, 5)"
            ]
          },
          "metadata": {
            "tags": []
          },
          "execution_count": 8
        }
      ]
    },
    {
      "cell_type": "markdown",
      "metadata": {
        "id": "CPFUvnSkbrtx"
      },
      "source": [
        "### **Ejercicio 7:**\n",
        "Crear una función para calcular la entropía  de una distribución de probabilidad representada como un vector.\n",
        "$$S = -\\sum_i^nP(x_{i})log_{2}P(x_{i})$$"
      ]
    },
    {
      "cell_type": "code",
      "metadata": {
        "colab": {
          "base_uri": "https://localhost:8080/"
        },
        "id": "nTIl8KFhb1JG",
        "outputId": "b0cf0326-93b7-4d95-a2f3-3f8fab361462"
      },
      "source": [
        "def entropia(px):\n",
        "  return np.sum(np.log2(px)*px)*-1\n",
        "\n",
        "print(\"Entropia = \",entropia([0.25,0.75]))\n"
      ],
      "execution_count": 11,
      "outputs": [
        {
          "output_type": "stream",
          "text": [
            "Entropia =  0.8112781244591328\n"
          ],
          "name": "stdout"
        }
      ]
    },
    {
      "cell_type": "markdown",
      "metadata": {
        "id": "4-H5lOeUppne"
      },
      "source": [
        "### **Ejercicio 8:**\n",
        "<img src=\"https://image.slidesharecdn.com/publishintroductiontodeeplearninginpythonandmatlab1-160502102437/95/introduction-to-deep-learning-in-python-and-matlab-54-638.jpg?cb=1462185644\">"
      ]
    },
    {
      "cell_type": "code",
      "metadata": {
        "colab": {
          "base_uri": "https://localhost:8080/"
        },
        "id": "2CeHcaVyrujN",
        "outputId": "4c93b1bb-64fd-434c-dfe6-eb48dabd884d"
      },
      "source": [
        "def cross_entropy(Y,Y_hat):\n",
        "  return np.nansum(np.log(Y_hat)*Y)*-1    \n",
        "\n",
        "y  = np.array([1.0,0,0])\n",
        "y_hat = np.array([0.7,0.2,1]) # <- resultado de algun modelo predictivo\n",
        "\n",
        "cross_entropy(y,y_hat)"
      ],
      "execution_count": 26,
      "outputs": [
        {
          "output_type": "execute_result",
          "data": {
            "text/plain": [
              "0.35667494393873245"
            ]
          },
          "metadata": {
            "tags": []
          },
          "execution_count": 26
        }
      ]
    },
    {
      "cell_type": "markdown",
      "metadata": {
        "id": "GXWaj2kXbCjz"
      },
      "source": [
        "### **Ejercicio 9 :**\n",
        "Crear una función que reciba como parámetro un vector x y calcule su magnitud o norma(euclidiana o L2), luego usarla para evaluar 2 vectores \n",
        "que representan los errores generados por 2 modelos de machine learning y concluir cual de los 2 modelos es mejor."
      ]
    },
    {
      "cell_type": "code",
      "metadata": {
        "colab": {
          "base_uri": "https://localhost:8080/"
        },
        "id": "WZKa4Iv-WsC3",
        "outputId": "c9ddf75c-84ce-44b0-8f40-dce1ba8ed27a"
      },
      "source": [
        "def magnitud(x):    \n",
        "    return np.sqrt(np.sum(np.power(x,2))) # raiz cuadrada\n",
        "\n",
        "errores_modelo1 = np.array([1,2,1,2]) #\n",
        "errores_modelo2 = np.array([0,1,1,2]) #\n",
        "\n",
        "print(\"Magnitud Errores Modelo1 = \" + str(magnitud(errores_modelo1)))\n",
        "print(\"Magnitud Errores Modelo2 = \" + str(magnitud(errores_modelo2)))\n",
        "\n",
        "# elegir el mejor modelo con una condicional(if)\n",
        "if magnitud(errores_modelo1) > magnitud(errores_modelo2):\n",
        "  print(\"El modelo 2 es el mejor\")\n",
        "elif magnitud(errores_modelo1) < magnitud(errores_modelo2):\n",
        "  print(\"El modelo 1 es el mejor\")\n",
        "else:\n",
        "  print(\"Ambos modelos son equivalentes\")"
      ],
      "execution_count": 28,
      "outputs": [
        {
          "output_type": "stream",
          "text": [
            "Magnitud Errores Modelo1 = 3.1622776601683795\n",
            "Magnitud Errores Modelo2 = 2.449489742783178\n",
            "El modelo 2 es el mejor\n"
          ],
          "name": "stdout"
        }
      ]
    },
    {
      "cell_type": "markdown",
      "metadata": {
        "id": "etC-ms6GwVdj"
      },
      "source": [
        "### **Ejercicio 10 :**\n",
        "Usando la función del ejercicio anterior, crea otra función normalizar(x) que reciba de parámetro un vector x aplique normalización sobre este, el resultado debe ser un nuevo vector del tamaño de x cuya magnitud es igual a 1.0"
      ]
    },
    {
      "cell_type": "code",
      "metadata": {
        "colab": {
          "base_uri": "https://localhost:8080/"
        },
        "id": "oY6VvHYsWYTI",
        "outputId": "b1869bab-6dcc-4b43-e3b5-d1fdf6d2ede4"
      },
      "source": [
        "def normalizar(x):\n",
        "  return x/magnitud(x)    \n",
        "    \n",
        "print(magnitud(normalizar(errores_modelo1)))\n",
        "print(normalizar(errores_modelo2))"
      ],
      "execution_count": 29,
      "outputs": [
        {
          "output_type": "stream",
          "text": [
            "1.0\n",
            "[0.         0.40824829 0.40824829 0.81649658]\n"
          ],
          "name": "stdout"
        }
      ]
    },
    {
      "cell_type": "markdown",
      "metadata": {
        "id": "mF-cYUmBxMvl"
      },
      "source": [
        "### **Ejercicio 11:**\n",
        "\n",
        "INPUT LAYER: un vector X de tamaño = 2 que representa los datos de entrada\n",
        "HIDDEN_LAYER :capa oculta con 2 neuronas definidas por los vectores:\n",
        "- HL1 = [0.25,0.37]\n",
        "- HL2 = [-8,14]\n",
        "- OUTPUT_LAYER = capa de salida definida por el vector [4,9]\n"
      ]
    },
    {
      "cell_type": "code",
      "metadata": {
        "colab": {
          "base_uri": "https://localhost:8080/"
        },
        "id": "ripk-EYQ6Zm7",
        "outputId": "376e285d-798c-4b1d-b7cb-2b0ba3e54364"
      },
      "source": [
        "def neural_network(x):\n",
        "  HL1 = np.array([0.25,0.37])\n",
        "  HL2 = np.array([-8,14])\n",
        "  OUTPUT_LAYER = np.array([4,9])\n",
        "  HL1_R = np.dot(x,HL1)\n",
        "  HL2_R = np.dot(x,HL2)\n",
        "  if HL1_R > HL2_R:\n",
        "    print(\"\\nHL1 tiene un patrón de mayor medida en X=\",x)\n",
        "  elif HL2_R > HL1_R:\n",
        "    print(\"\\nHL2 tiene un patrón de mayor medida en X=\",x)\n",
        "  else:\n",
        "    print(\"\\nHL2 y HL1 tiene el mismo patrón de medida en X=\",x)\n",
        "\n",
        "  HL_R = np.array([HL1_R,HL2_R])\n",
        "  O = np.dot(OUTPUT_LAYER,HL_R)\n",
        "  return O\n",
        "\n",
        "X1 = np.array([0.50,0.72])\n",
        "X2 = np.array([-4,7])\n",
        "X3 = np.zeros_like(X2)\n",
        "X4 = np.ones_like(X1)\n",
        "X5 = np.random.randn(X1.shape[0])\n",
        "\n",
        "print(\"Output de la Red Neural=\",neural_network(X1))\n",
        "print(\"Output de la Red Neural=\",neural_network(X2))\n",
        "print(\"Output de la Red Neural=\",neural_network(X3))\n",
        "print(\"Output de la Red Neural=\",neural_network(X4))\n",
        "print(\"Output de la Red Neural=\",neural_network(X5))"
      ],
      "execution_count": 56,
      "outputs": [
        {
          "output_type": "stream",
          "text": [
            "\n",
            "HL2 tiene un patrón de mayor medida en X= [0.5  0.72]\n",
            "Output de la Red Neural= 56.2856\n",
            "\n",
            "HL2 tiene un patrón de mayor medida en X= [-4  7]\n",
            "Output de la Red Neural= 1176.36\n",
            "\n",
            "HL2 y HL1 tiene el mismo patrón de medida en X= [0 0]\n",
            "Output de la Red Neural= 0.0\n",
            "\n",
            "HL2 tiene un patrón de mayor medida en X= [1. 1.]\n",
            "Output de la Red Neural= 56.48\n",
            "\n",
            "HL1 tiene un patrón de mayor medida en X= [-0.64626643 -0.57360231]\n",
            "Output de la Red Neural= -27.23790628340169\n"
          ],
          "name": "stdout"
        }
      ]
    },
    {
      "cell_type": "markdown",
      "metadata": {
        "id": "FHaqJmcmEiYi"
      },
      "source": [
        "### **Ejercicio 12:**\n",
        "En este ejercicio usamos correlación cruzada para calcular las medias moviles promediando 3 puntos"
      ]
    },
    {
      "cell_type": "code",
      "metadata": {
        "colab": {
          "base_uri": "https://localhost:8080/"
        },
        "id": "KzP-BLkjEuBw",
        "outputId": "5da3024a-e252-4998-d73e-7acec940bd08"
      },
      "source": [
        "ruido = 0.1*np.random.randn(15) #el ruido comunmente se debe a aleatoriedad o captura no exacta de info.\n",
        "x = np.linspace(0,2*np.pi,15) \n",
        "y = np.sin(x) + ruido\n",
        "\n",
        "filtro = np.array([1/3,1/3,1/3]) #para lograr las medias moviles a traves de correlacion cruzada\n",
        "\n",
        "## tu codigo aqui (~ 3 linea de codigo)\n",
        "mm = y.copy()\n",
        "print(mm)\n",
        "#mm = np.dot(filtro,y) \n",
        "\n",
        "mm = mm.dot(1/3)\n",
        "print(\"\\n\",mm)\n",
        "\n",
        "#dotprod2 = dotprod1.dot(first)\n",
        "\n",
        "\n"
      ],
      "execution_count": 136,
      "outputs": [
        {
          "output_type": "stream",
          "text": [
            "[ 0.04175485  0.43829032  0.75365143  1.10929373  1.03034339  0.81621978\n",
            "  0.54293574  0.01815767 -0.41400448 -0.70904138 -1.274941   -0.93335944\n",
            " -0.61067528 -0.41250078  0.17155773]\n",
            "\n",
            " [ 0.01391828  0.14609677  0.25121714  0.36976458  0.3434478   0.27207326\n",
            "  0.18097858  0.00605256 -0.13800149 -0.23634713 -0.42498033 -0.31111981\n",
            " -0.20355843 -0.13750026  0.05718591]\n"
          ],
          "name": "stdout"
        }
      ]
    }
  ]
}